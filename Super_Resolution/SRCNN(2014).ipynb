{
  "nbformat": 4,
  "nbformat_minor": 0,
  "metadata": {
    "colab": {
      "name": "SRCNN(2014).ipynb",
      "provenance": [],
      "machine_shape": "hm",
      "authorship_tag": "ABX9TyOBFSVTJ1n1cvIMa5twn0H4",
      "include_colab_link": true
    },
    "kernelspec": {
      "name": "python3",
      "display_name": "Python 3"
    },
    "language_info": {
      "name": "python"
    },
    "accelerator": "GPU"
  },
  "cells": [
    {
      "cell_type": "markdown",
      "metadata": {
        "id": "view-in-github",
        "colab_type": "text"
      },
      "source": [
        "<a href=\"https://colab.research.google.com/github/Seonghoon-Yu/Paper_Review_and_Implementation_in_PyTorch/blob/master/Super_Resolution/SRCNN(2014).ipynb\" target=\"_parent\"><img src=\"https://colab.research.google.com/assets/colab-badge.svg\" alt=\"Open In Colab\"/></a>"
      ]
    },
    {
      "cell_type": "markdown",
      "metadata": {
        "id": "j-lfpildDbcY"
      },
      "source": [
        "# Reference\n",
        "- https://github.com/kawaiimaths/pytorch_srcnn\n",
        "- https://github.com/fuyongXu/SRCNN_Pytorch_1.0\n",
        "- https://debuggercafe.com/image-super-resolution-using-deep-learning-and-pytorch/"
      ]
    },
    {
      "cell_type": "code",
      "metadata": {
        "colab": {
          "base_uri": "https://localhost:8080/"
        },
        "id": "SQxhrBK_DQB_",
        "outputId": "49ba9493-3633-43ad-a2bd-bc42858d5ab1"
      },
      "source": [
        "from google.colab import drive\n",
        "drive.mount('srcnn')"
      ],
      "execution_count": 1,
      "outputs": [
        {
          "output_type": "stream",
          "text": [
            "Mounted at srcnn\n"
          ],
          "name": "stdout"
        }
      ]
    },
    {
      "cell_type": "code",
      "metadata": {
        "id": "8RCiFjVPEEtu"
      },
      "source": [
        "import torch\n",
        "import matplotlib\n",
        "import matplotlib.pyplot as plt\n",
        "import time\n",
        "import h5py\n",
        "import srcnn\n",
        "import torch.optim as optim\n",
        "import torch.nn as nn\n",
        "import numpy as np\n",
        "import math\n",
        "from torchvision.transforms import ToPILImage\n",
        "from torch.utils.data import DataLoader, Dataset\n",
        "from tqdm import tqdm\n",
        "from sklearn.model_selection import train_test_split\n",
        "from torchvision.utils import save_image\n",
        "%matplotlib inline\n",
        "\n",
        "import torch.nn as nn\n",
        "import torch.nn.functional as F\n",
        "import time\n",
        "\n",
        "device = torch.device('cuda' if torch.cuda.is_available() else 'cpu')"
      ],
      "execution_count": 2,
      "outputs": []
    },
    {
      "cell_type": "markdown",
      "metadata": {
        "id": "uoshCxS5C6I-"
      },
      "source": [
        "# 데이터셋 불러오기\n",
        "- 아래 홈페이지에서 데이터셋을 다운로드 받습니다.\n",
        "- https://drive.google.com/file/d/1aPxBtvIEMWrLt-awM-0Fko8sJONqOpUx/view"
      ]
    },
    {
      "cell_type": "code",
      "metadata": {
        "id": "Cfc8nv67DoUK"
      },
      "source": [
        "# 디렉토리 이동\n",
        "!cd /content"
      ],
      "execution_count": 4,
      "outputs": []
    },
    {
      "cell_type": "code",
      "metadata": {
        "id": "WS_7pubrDjGe"
      },
      "source": [
        "# 데이터를 저장할 폴더 생성\n",
        "!mkdir data"
      ],
      "execution_count": 5,
      "outputs": []
    },
    {
      "cell_type": "code",
      "metadata": {
        "id": "MVmO_3WIC2ev"
      },
      "source": [
        "# 압축 풀기\n",
        "!unzip /content/srcnn/MyDrive/data/input.zip -d /content/data"
      ],
      "execution_count": null,
      "outputs": []
    },
    {
      "cell_type": "code",
      "metadata": {
        "id": "ZdEg4H6vDusP"
      },
      "source": [
        "# 입력 이미지 차원 설정하기\n",
        "input_h, input_w = 33, 33 # sub-image에 대한 크기\n",
        "out_h, out_w = 33, 33 # label인 high-resolution에 대한 크기"
      ],
      "execution_count": 7,
      "outputs": []
    },
    {
      "cell_type": "code",
      "metadata": {
        "id": "N0VP0TRAEbyC"
      },
      "source": [
        "# sub-images와 label 읽어오기\n",
        "file = h5py.File('/content/data/train_mscale.h5')\n",
        "in_train = file['data'][:] # train data\n",
        "out_train = file['label'][:] # train label\n",
        "file.close()\n",
        "\n",
        "# float32로 타입 변경\n",
        "in_train = in_train.astype('float32')\n",
        "out_train = out_train.astype('float32')"
      ],
      "execution_count": 50,
      "outputs": []
    },
    {
      "cell_type": "code",
      "metadata": {
        "colab": {
          "base_uri": "https://localhost:8080/"
        },
        "id": "LN54TpCjGH2u",
        "outputId": "c5cc0b4a-f317-4506-88e9-d2cd02053e1d"
      },
      "source": [
        "# 0.75: 0.15 = train : val 분할\n",
        "(x_train, x_val, y_train, y_val) = train_test_split(in_train, out_train, test_size=0.25)\n",
        "print(x_train.shape[0])\n",
        "print(x_val.shape[0])"
      ],
      "execution_count": 51,
      "outputs": [
        {
          "output_type": "stream",
          "text": [
            "16368\n",
            "5456\n"
          ],
          "name": "stdout"
        }
      ]
    },
    {
      "cell_type": "code",
      "metadata": {
        "id": "WxPX6UtxGYin"
      },
      "source": [
        "# 커스텀 데이터셋 생성하기\n",
        "class SRCNNDataset(Dataset):\n",
        "    def __init__(self, image_data, labels):\n",
        "        self.image_data = image_data\n",
        "        self.labels = labels\n",
        "\n",
        "    def __len__(self):\n",
        "        return (len(self.image_data))\n",
        "\n",
        "    def __getitem__(self, index):\n",
        "        image = self.image_data[index]\n",
        "        label = self.labels[index]\n",
        "        return (torch.tensor(image, dtype=torch.float),\n",
        "            torch.tensor(label, dtype=torch.float))"
      ],
      "execution_count": 52,
      "outputs": []
    },
    {
      "cell_type": "code",
      "metadata": {
        "id": "Sp1Os6DCG08C"
      },
      "source": [
        "# 데이터셋 생성\n",
        "train_ds = SRCNNDataset(x_train, y_train)\n",
        "val_ds = SRCNNDataset(x_val, y_val)\n",
        "\n",
        "# 데이터로더 생성\n",
        "train_dl = DataLoader(train_ds, batch_size=64)\n",
        "val_dl = DataLoader(val_ds, batch_size=64)"
      ],
      "execution_count": 53,
      "outputs": []
    },
    {
      "cell_type": "code",
      "metadata": {
        "colab": {
          "base_uri": "https://localhost:8080/"
        },
        "id": "0gC5Dqh_HVs_",
        "outputId": "55739948-6b66-4b50-8cb3-77b1ffbabc7a"
      },
      "source": [
        "# 데이터 체크\n",
        "for x, y in train_dl:\n",
        "    print(x.shape, y.shape)\n",
        "    break"
      ],
      "execution_count": 54,
      "outputs": [
        {
          "output_type": "stream",
          "text": [
            "torch.Size([64, 1, 33, 33]) torch.Size([64, 1, 33, 33])\n"
          ],
          "name": "stdout"
        }
      ]
    },
    {
      "cell_type": "code",
      "metadata": {
        "colab": {
          "base_uri": "https://localhost:8080/"
        },
        "id": "gm1txBoHHhEJ",
        "outputId": "6c3979e6-d84d-4016-8448-f3114c5d7206"
      },
      "source": [
        "# 데이터 시각화\n",
        "img = x[0]\n",
        "target = y[0]\n",
        "print(img.shape, target.shape)\n",
        "print(img.dtype)"
      ],
      "execution_count": 55,
      "outputs": [
        {
          "output_type": "stream",
          "text": [
            "torch.Size([1, 33, 33]) torch.Size([1, 33, 33])\n",
            "torch.float32\n"
          ],
          "name": "stdout"
        }
      ]
    },
    {
      "cell_type": "code",
      "metadata": {
        "colab": {
          "base_uri": "https://localhost:8080/",
          "height": 234
        },
        "id": "PVVMAPICHv7O",
        "outputId": "80c03b35-6cfc-483f-fd71-30b148f09298"
      },
      "source": [
        "from torchvision.transforms.functional import to_pil_image\n",
        "\n",
        "plt.figure()\n",
        "plt.subplot(1,2,1)\n",
        "plt.imshow(to_pil_image(img), cmap='gray')\n",
        "plt.title('train')\n",
        "plt.subplot(1,2,2)\n",
        "plt.imshow(to_pil_image(target), cmap='gray')\n",
        "plt.title('target')"
      ],
      "execution_count": 56,
      "outputs": [
        {
          "output_type": "execute_result",
          "data": {
            "text/plain": [
              "Text(0.5, 1.0, 'target')"
            ]
          },
          "metadata": {
            "tags": []
          },
          "execution_count": 56
        },
        {
          "output_type": "display_data",
          "data": {
            "image/png": "[encoded data removed]",
            "text/plain": [
              "<Figure size 432x288 with 2 Axes>"
            ]
          },
          "metadata": {
            "tags": [],
            "needs_background": "light"
          }
        }
      ]
    },
    {
      "cell_type": "markdown",
      "metadata": {
        "id": "opy_xpBtMRVQ"
      },
      "source": [
        "# 모델 구축하기"
      ]
    },
    {
      "cell_type": "code",
      "metadata": {
        "id": "4xnjGQhRIweI"
      },
      "source": [
        "class SRCNN(nn.Module):\n",
        "    def __init__(self):\n",
        "        super().__init__()\n",
        "\n",
        "        # padding_mode='replicate'는 zero padding이 아닌, 주변 값을 복사해서 padding 합니다.\n",
        "        self.conv1 = nn.Conv2d(1, 64, 9, padding=2, padding_mode='replicate')\n",
        "        self.conv2 = nn.Conv2d(64, 32, 1, padding=2, padding_mode='replicate')\n",
        "        self.conv3 = nn.Conv2d(32, 1, 5, padding=2, padding_mode='replicate')\n",
        "\n",
        "    def forward(self, x):\n",
        "        x = F.relu(self.conv1(x))\n",
        "        x = F.relu(self.conv2(x))\n",
        "        x = self.conv3(x)\n",
        "\n",
        "        return x"
      ],
      "execution_count": 57,
      "outputs": []
    },
    {
      "cell_type": "code",
      "metadata": {
        "colab": {
          "base_uri": "https://localhost:8080/"
        },
        "id": "1eUwPti_T9UR",
        "outputId": "7f71d023-900e-43e8-8d82-e6154eeb15fe"
      },
      "source": [
        "# check\n",
        "x = torch.randn(64,1,33,33).to(device)\n",
        "model = SRCNN().to(device)\n",
        "output = model(x)\n",
        "print(output.shape)"
      ],
      "execution_count": 58,
      "outputs": [
        {
          "output_type": "stream",
          "text": [
            "torch.Size([64, 1, 33, 33])\n"
          ],
          "name": "stdout"
        }
      ]
    },
    {
      "cell_type": "code",
      "metadata": {
        "id": "Q96WjgsuipI2"
      },
      "source": [
        "# 가중치 초기화\n",
        "def initialize_weights(model):\n",
        "    classname = model.__class__.__name__\n",
        "    if classname.find('Conv') != -1:\n",
        "        nn.init.normal_(model.weight.data, 0.0, 0.02)\n",
        "\n",
        "model.apply(initialize_weights);"
      ],
      "execution_count": 59,
      "outputs": []
    },
    {
      "cell_type": "markdown",
      "metadata": {
        "id": "Jzw6_OrqTuJb"
      },
      "source": [
        "# 학습하기"
      ]
    },
    {
      "cell_type": "code",
      "metadata": {
        "id": "1s-7ZJhJTqwV"
      },
      "source": [
        "# 손실함수\n",
        "loss_func = nn.MSELoss()\n",
        "\n",
        "# optimizer\n",
        "import torch.optim as optim\n",
        "optimizer = optim.Adam(model.parameters())"
      ],
      "execution_count": 60,
      "outputs": []
    },
    {
      "cell_type": "code",
      "metadata": {
        "id": "1nD_x1OMV-ZE"
      },
      "source": [
        "# PSNR function: 모델의 출력값과 high-resoultion의 유사도를 측정합니다.\n",
        "# PSNR 값이 클수록 좋습니다.\n",
        "def psnr(label, outputs, max_val=1.):\n",
        "    label = label.cpu().detach().numpy()\n",
        "    outputs = outputs.cpu().detach().numpy()\n",
        "    img_diff = outputs - label\n",
        "    rmse = math.sqrt(np.mean((img_diff)**2))\n",
        "    if rmse == 0: # label과 output이 완전히 일치하는 경우\n",
        "        return 100\n",
        "    else:\n",
        "        psnr = 20 * math.log10(max_val/rmse)\n",
        "        return psnr"
      ],
      "execution_count": 61,
      "outputs": []
    },
    {
      "cell_type": "code",
      "metadata": {
        "id": "uo9qEEGuWiNr"
      },
      "source": [
        "# train 함수\n",
        "def train(model, data_dl):\n",
        "    model.train()\n",
        "    running_loss = 0.0\n",
        "    running_psnr = 0.0\n",
        "\n",
        "    for ba, data in enumerate(data_dl):\n",
        "        image = data[0].to(device)\n",
        "        label = data[1].to(device)\n",
        "\n",
        "        optimizer.zero_grad()\n",
        "        outputs = model(image)\n",
        "        loss = loss_func(outputs, label)\n",
        "        loss.backward()\n",
        "        optimizer.step()\n",
        "\n",
        "        running_loss += loss.item()\n",
        "        batch_psnr = psnr(label, outputs)\n",
        "        running_psnr += batch_psnr\n",
        "    \n",
        "    final_loss = running_loss / len(data_dl.dataset)\n",
        "    final_psnr = running_psnr / int(len(train_ds)/data_dl.batch_size)\n",
        "    return final_loss, final_psnr"
      ],
      "execution_count": 62,
      "outputs": []
    },
    {
      "cell_type": "code",
      "metadata": {
        "id": "Q1wP1A09dYTL"
      },
      "source": [
        "# validation 함수\n",
        "def validate(model, data_dl, epoch):\n",
        "    # epoch는 이미지를 저장할때, 이미지의 이름으로 사용됩니다.\n",
        "    \n",
        "    model.eval()\n",
        "    running_loss = 0.0\n",
        "    running_psnr = 0.0\n",
        "    with torch.no_grad():\n",
        "        for ba, data in enumerate(data_dl):\n",
        "            image = data[0].to(device)\n",
        "            label = data[1].to(device)\n",
        "\n",
        "            outputs = model(image)\n",
        "            loss = loss_func(outputs, label)\n",
        "\n",
        "            running_loss += loss.item()\n",
        "            batch_psnr = psnr(label,outputs)\n",
        "            running_psnr += batch_psnr\n",
        "\n",
        "        outputs = outputs.cpu()\n",
        "        # tensor를 입력받아 이미지 파일로 저장합니다.\n",
        "        save_image(outputs, f'/content/outputs/{epoch}.png')\n",
        "    \n",
        "    final_loss = running_loss / len(data_dl.dataset)\n",
        "    final_psnr = running_psnr / int(len(val_ds)/data_dl.batch_size)\n",
        "    return final_loss, final_psnr"
      ],
      "execution_count": 63,
      "outputs": []
    },
    {
      "cell_type": "code",
      "metadata": {
        "id": "gER3MsQPiNnD",
        "outputId": "7347b54f-b874-46c8-d44b-e267c3ba4155",
        "colab": {
          "base_uri": "https://localhost:8080/"
        }
      },
      "source": [
        "# 이미지를 저장할 폴더 생성\n",
        "!mkdir outputs"
      ],
      "execution_count": 64,
      "outputs": [
        {
          "output_type": "stream",
          "text": [
            "mkdir: cannot create directory ‘outputs’: File exists\n"
          ],
          "name": "stdout"
        }
      ]
    },
    {
      "cell_type": "code",
      "metadata": {
        "colab": {
          "base_uri": "https://localhost:8080/"
        },
        "id": "_SM_CvpWfDTA",
        "outputId": "60f17e61-5910-4b03-cd7e-387c01b5ff8c"
      },
      "source": [
        "num_epochs = 100\n",
        "\n",
        "# 학습하기\n",
        "train_loss, val_loss = [], []\n",
        "train_psnr, val_psnr = [], []\n",
        "start = time.time()\n",
        "for epoch in range(num_epochs):\n",
        "    print(f'Epoch {epoch + 1} of {num_epochs}')\n",
        "    train_epoch_loss, train_epoch_psnr = train(model, train_dl)\n",
        "    val_epoch_loss, val_epoch_psnr = validate(model, val_dl, epoch)\n",
        "\n",
        "    train_loss.append(train_epoch_loss)\n",
        "    train_psnr.append(train_epoch_psnr)\n",
        "    val_loss.append(val_epoch_loss)\n",
        "    val_psnr.append(val_epoch_psnr)\n",
        "    end = time.time()\n",
        "    print(f'Train PSNR: {train_epoch_psnr:.3f}, Val PSNR: {val_epoch_psnr:.3f}, Time: {end-start:.2f} sec')"
      ],
      "execution_count": 65,
      "outputs": [
        {
          "output_type": "stream",
          "text": [
            "Epoch 1 of 100\n",
            "Train PSNR: 22.478, Val PSNR: 25.961, Time: 2.06 sec\n",
            "Epoch 2 of 100\n",
            "Train PSNR: 25.978, Val PSNR: 26.507, Time: 4.09 sec\n",
            "Epoch 3 of 100\n",
            "Train PSNR: 26.541, Val PSNR: 27.037, Time: 6.12 sec\n",
            "Epoch 4 of 100\n",
            "Train PSNR: 26.920, Val PSNR: 27.279, Time: 8.15 sec\n",
            "Epoch 5 of 100\n",
            "Train PSNR: 27.080, Val PSNR: 27.380, Time: 10.20 sec\n",
            "Epoch 6 of 100\n",
            "Train PSNR: 27.140, Val PSNR: 27.414, Time: 12.23 sec\n",
            "Epoch 7 of 100\n",
            "Train PSNR: 27.160, Val PSNR: 27.404, Time: 14.26 sec\n",
            "Epoch 8 of 100\n",
            "Train PSNR: 27.178, Val PSNR: 27.448, Time: 16.28 sec\n",
            "Epoch 9 of 100\n",
            "Train PSNR: 27.194, Val PSNR: 27.465, Time: 18.31 sec\n",
            "Epoch 10 of 100\n",
            "Train PSNR: 27.201, Val PSNR: 27.475, Time: 20.34 sec\n",
            "Epoch 11 of 100\n",
            "Train PSNR: 27.211, Val PSNR: 27.478, Time: 22.39 sec\n",
            "Epoch 12 of 100\n",
            "Train PSNR: 27.218, Val PSNR: 27.478, Time: 24.43 sec\n",
            "Epoch 13 of 100\n",
            "Train PSNR: 27.225, Val PSNR: 27.490, Time: 26.46 sec\n",
            "Epoch 14 of 100\n",
            "Train PSNR: 27.234, Val PSNR: 27.504, Time: 28.50 sec\n",
            "Epoch 15 of 100\n",
            "Train PSNR: 27.248, Val PSNR: 27.511, Time: 30.53 sec\n",
            "Epoch 16 of 100\n",
            "Train PSNR: 27.259, Val PSNR: 27.529, Time: 32.57 sec\n",
            "Epoch 17 of 100\n",
            "Train PSNR: 27.268, Val PSNR: 27.548, Time: 34.61 sec\n",
            "Epoch 18 of 100\n",
            "Train PSNR: 27.283, Val PSNR: 27.550, Time: 36.63 sec\n",
            "Epoch 19 of 100\n",
            "Train PSNR: 27.298, Val PSNR: 27.571, Time: 38.65 sec\n",
            "Epoch 20 of 100\n",
            "Train PSNR: 27.310, Val PSNR: 27.580, Time: 40.68 sec\n",
            "Epoch 21 of 100\n",
            "Train PSNR: 27.320, Val PSNR: 27.586, Time: 42.70 sec\n",
            "Epoch 22 of 100\n",
            "Train PSNR: 27.328, Val PSNR: 27.574, Time: 44.72 sec\n",
            "Epoch 23 of 100\n",
            "Train PSNR: 27.336, Val PSNR: 27.574, Time: 46.76 sec\n",
            "Epoch 24 of 100\n",
            "Train PSNR: 27.343, Val PSNR: 27.589, Time: 48.78 sec\n",
            "Epoch 25 of 100\n",
            "Train PSNR: 27.351, Val PSNR: 27.583, Time: 50.79 sec\n",
            "Epoch 26 of 100\n",
            "Train PSNR: 27.356, Val PSNR: 27.625, Time: 52.82 sec\n",
            "Epoch 27 of 100\n",
            "Train PSNR: 27.367, Val PSNR: 27.598, Time: 54.85 sec\n",
            "Epoch 28 of 100\n",
            "Train PSNR: 27.374, Val PSNR: 27.618, Time: 56.87 sec\n",
            "Epoch 29 of 100\n",
            "Train PSNR: 27.386, Val PSNR: 27.605, Time: 58.89 sec\n",
            "Epoch 30 of 100\n",
            "Train PSNR: 27.393, Val PSNR: 27.653, Time: 60.92 sec\n",
            "Epoch 31 of 100\n",
            "Train PSNR: 27.405, Val PSNR: 27.631, Time: 62.96 sec\n",
            "Epoch 32 of 100\n",
            "Train PSNR: 27.411, Val PSNR: 27.671, Time: 65.00 sec\n",
            "Epoch 33 of 100\n",
            "Train PSNR: 27.420, Val PSNR: 27.655, Time: 67.04 sec\n",
            "Epoch 34 of 100\n",
            "Train PSNR: 27.426, Val PSNR: 27.655, Time: 69.08 sec\n",
            "Epoch 35 of 100\n",
            "Train PSNR: 27.432, Val PSNR: 27.692, Time: 71.12 sec\n",
            "Epoch 36 of 100\n",
            "Train PSNR: 27.441, Val PSNR: 27.639, Time: 73.13 sec\n",
            "Epoch 37 of 100\n",
            "Train PSNR: 27.442, Val PSNR: 27.687, Time: 75.18 sec\n",
            "Epoch 38 of 100\n",
            "Train PSNR: 27.454, Val PSNR: 27.664, Time: 77.20 sec\n",
            "Epoch 39 of 100\n",
            "Train PSNR: 27.464, Val PSNR: 27.632, Time: 79.23 sec\n",
            "Epoch 40 of 100\n",
            "Train PSNR: 27.461, Val PSNR: 27.763, Time: 81.27 sec\n",
            "Epoch 41 of 100\n",
            "Train PSNR: 27.478, Val PSNR: 27.767, Time: 83.30 sec\n",
            "Epoch 42 of 100\n",
            "Train PSNR: 27.487, Val PSNR: 27.775, Time: 85.34 sec\n",
            "Epoch 43 of 100\n",
            "Train PSNR: 27.506, Val PSNR: 27.701, Time: 87.35 sec\n",
            "Epoch 44 of 100\n",
            "Train PSNR: 27.502, Val PSNR: 27.774, Time: 89.39 sec\n",
            "Epoch 45 of 100\n",
            "Train PSNR: 27.523, Val PSNR: 27.712, Time: 91.43 sec\n",
            "Epoch 46 of 100\n",
            "Train PSNR: 27.524, Val PSNR: 27.728, Time: 93.45 sec\n",
            "Epoch 47 of 100\n",
            "Train PSNR: 27.536, Val PSNR: 27.705, Time: 95.49 sec\n",
            "Epoch 48 of 100\n",
            "Train PSNR: 27.529, Val PSNR: 27.848, Time: 97.51 sec\n",
            "Epoch 49 of 100\n",
            "Train PSNR: 27.564, Val PSNR: 27.663, Time: 99.52 sec\n",
            "Epoch 50 of 100\n",
            "Train PSNR: 27.560, Val PSNR: 27.675, Time: 101.55 sec\n",
            "Epoch 51 of 100\n",
            "Train PSNR: 27.551, Val PSNR: 27.866, Time: 103.58 sec\n",
            "Epoch 52 of 100\n",
            "Train PSNR: 27.585, Val PSNR: 27.738, Time: 105.60 sec\n",
            "Epoch 53 of 100\n",
            "Train PSNR: 27.576, Val PSNR: 27.810, Time: 107.62 sec\n",
            "Epoch 54 of 100\n",
            "Train PSNR: 27.586, Val PSNR: 27.884, Time: 109.65 sec\n",
            "Epoch 55 of 100\n",
            "Train PSNR: 27.592, Val PSNR: 27.893, Time: 111.67 sec\n",
            "Epoch 56 of 100\n",
            "Train PSNR: 27.597, Val PSNR: 27.901, Time: 113.69 sec\n",
            "Epoch 57 of 100\n",
            "Train PSNR: 27.603, Val PSNR: 27.908, Time: 115.72 sec\n",
            "Epoch 58 of 100\n",
            "Train PSNR: 27.609, Val PSNR: 27.909, Time: 117.76 sec\n",
            "Epoch 59 of 100\n",
            "Train PSNR: 27.613, Val PSNR: 27.932, Time: 119.78 sec\n",
            "Epoch 60 of 100\n",
            "Train PSNR: 27.617, Val PSNR: 27.863, Time: 121.80 sec\n",
            "Epoch 61 of 100\n",
            "Train PSNR: 27.628, Val PSNR: 27.938, Time: 123.82 sec\n",
            "Epoch 62 of 100\n",
            "Train PSNR: 27.628, Val PSNR: 27.947, Time: 125.85 sec\n",
            "Epoch 63 of 100\n",
            "Train PSNR: 27.635, Val PSNR: 27.947, Time: 127.88 sec\n",
            "Epoch 64 of 100\n",
            "Train PSNR: 27.639, Val PSNR: 27.954, Time: 129.91 sec\n",
            "Epoch 65 of 100\n",
            "Train PSNR: 27.642, Val PSNR: 27.956, Time: 131.93 sec\n",
            "Epoch 66 of 100\n",
            "Train PSNR: 27.652, Val PSNR: 27.961, Time: 133.96 sec\n",
            "Epoch 67 of 100\n",
            "Train PSNR: 27.653, Val PSNR: 27.967, Time: 135.99 sec\n",
            "Epoch 68 of 100\n",
            "Train PSNR: 27.660, Val PSNR: 27.962, Time: 138.03 sec\n",
            "Epoch 69 of 100\n",
            "Train PSNR: 27.664, Val PSNR: 27.957, Time: 140.07 sec\n",
            "Epoch 70 of 100\n",
            "Train PSNR: 27.669, Val PSNR: 27.958, Time: 142.11 sec\n",
            "Epoch 71 of 100\n",
            "Train PSNR: 27.675, Val PSNR: 27.960, Time: 144.17 sec\n",
            "Epoch 72 of 100\n",
            "Train PSNR: 27.680, Val PSNR: 27.972, Time: 146.20 sec\n",
            "Epoch 73 of 100\n",
            "Train PSNR: 27.686, Val PSNR: 27.978, Time: 148.25 sec\n",
            "Epoch 74 of 100\n",
            "Train PSNR: 27.694, Val PSNR: 27.848, Time: 150.29 sec\n",
            "Epoch 75 of 100\n",
            "Train PSNR: 27.707, Val PSNR: 27.975, Time: 152.33 sec\n",
            "Epoch 76 of 100\n",
            "Train PSNR: 27.690, Val PSNR: 27.832, Time: 154.37 sec\n",
            "Epoch 77 of 100\n",
            "Train PSNR: 27.702, Val PSNR: 27.911, Time: 156.40 sec\n",
            "Epoch 78 of 100\n",
            "Train PSNR: 27.710, Val PSNR: 27.835, Time: 158.40 sec\n",
            "Epoch 79 of 100\n",
            "Train PSNR: 27.715, Val PSNR: 27.848, Time: 160.42 sec\n",
            "Epoch 80 of 100\n",
            "Train PSNR: 27.709, Val PSNR: 27.960, Time: 162.44 sec\n",
            "Epoch 81 of 100\n",
            "Train PSNR: 27.726, Val PSNR: 27.906, Time: 164.46 sec\n",
            "Epoch 82 of 100\n",
            "Train PSNR: 27.721, Val PSNR: 27.882, Time: 166.49 sec\n",
            "Epoch 83 of 100\n",
            "Train PSNR: 27.727, Val PSNR: 27.922, Time: 168.51 sec\n",
            "Epoch 84 of 100\n",
            "Train PSNR: 27.729, Val PSNR: 27.952, Time: 170.50 sec\n",
            "Epoch 85 of 100\n",
            "Train PSNR: 27.731, Val PSNR: 27.861, Time: 172.51 sec\n",
            "Epoch 86 of 100\n",
            "Train PSNR: 27.739, Val PSNR: 27.958, Time: 174.53 sec\n",
            "Epoch 87 of 100\n",
            "Train PSNR: 27.744, Val PSNR: 28.074, Time: 176.53 sec\n",
            "Epoch 88 of 100\n",
            "Train PSNR: 27.743, Val PSNR: 28.040, Time: 178.55 sec\n",
            "Epoch 89 of 100\n",
            "Train PSNR: 27.741, Val PSNR: 27.843, Time: 180.57 sec\n",
            "Epoch 90 of 100\n",
            "Train PSNR: 27.754, Val PSNR: 27.952, Time: 182.60 sec\n",
            "Epoch 91 of 100\n",
            "Train PSNR: 27.751, Val PSNR: 27.873, Time: 184.61 sec\n",
            "Epoch 92 of 100\n",
            "Train PSNR: 27.750, Val PSNR: 27.916, Time: 186.64 sec\n",
            "Epoch 93 of 100\n",
            "Train PSNR: 27.757, Val PSNR: 27.896, Time: 188.67 sec\n",
            "Epoch 94 of 100\n",
            "Train PSNR: 27.759, Val PSNR: 27.902, Time: 190.70 sec\n",
            "Epoch 95 of 100\n",
            "Train PSNR: 27.762, Val PSNR: 27.893, Time: 192.72 sec\n",
            "Epoch 96 of 100\n",
            "Train PSNR: 27.773, Val PSNR: 27.894, Time: 194.76 sec\n",
            "Epoch 97 of 100\n",
            "Train PSNR: 27.760, Val PSNR: 28.006, Time: 196.80 sec\n",
            "Epoch 98 of 100\n",
            "Train PSNR: 27.783, Val PSNR: 27.871, Time: 198.83 sec\n",
            "Epoch 99 of 100\n",
            "Train PSNR: 27.769, Val PSNR: 28.060, Time: 200.86 sec\n",
            "Epoch 100 of 100\n",
            "Train PSNR: 27.791, Val PSNR: 27.957, Time: 202.89 sec\n"
          ],
          "name": "stdout"
        }
      ]
    },
    {
      "cell_type": "code",
      "metadata": {
        "colab": {
          "base_uri": "https://localhost:8080/",
          "height": 867
        },
        "id": "2i7DihfmhkmH",
        "outputId": "5dbb60d0-c3e8-43b7-edcc-fbfbc1747a2c"
      },
      "source": [
        "# loss plots\n",
        "plt.figure(figsize=(10, 7))\n",
        "plt.plot(train_loss, color='orange', label='train loss')\n",
        "plt.plot(val_loss, color='red', label='validataion loss')\n",
        "plt.xlabel('Epochs')\n",
        "plt.ylabel('Loss')\n",
        "plt.legend()\n",
        "plt.show()\n",
        "\n",
        "# psnr plots\n",
        "plt.figure(figsize=(10, 7))\n",
        "plt.plot(train_psnr, color='green', label='train PSNR dB')\n",
        "plt.plot(val_psnr, color='blue', label='validataion PSNR dB')\n",
        "plt.xlabel('Epochs')\n",
        "plt.ylabel('PSNR (dB)')\n",
        "plt.legend()\n",
        "plt.show()"
      ],
      "execution_count": 66,
      "outputs": [
        {
          "output_type": "display_data",
          "data": {
            "image/png": "[encoded data removed]",
            "text/plain": [
              "<Figure size 720x504 with 1 Axes>"
            ]
          },
          "metadata": {
            "tags": [],
            "needs_background": "light"
          }
        },
        {
          "output_type": "display_data",
          "data": {
            "image/png": "[encoded data removed]",
            "text/plain": [
              "<Figure size 720x504 with 1 Axes>"
            ]
          },
          "metadata": {
            "tags": [],
            "needs_background": "light"
          }
        }
      ]
    },
    {
      "cell_type": "markdown",
      "metadata": {
        "id": "ALY4C1JPqaCq"
      },
      "source": [
        "# Test"
      ]
    },
    {
      "cell_type": "code",
      "metadata": {
        "id": "lkNH9MoZmQoZ",
        "outputId": "72b2deb2-6024-46bb-835a-103274c4149f",
        "colab": {
          "base_uri": "https://localhost:8080/",
          "height": 275
        }
      },
      "source": [
        "# 이미지 꺼내기\n",
        "for img, label in val_dl:\n",
        "    img = img[0]\n",
        "    label = label[0]\n",
        "    break\n",
        "\n",
        "# super-resolution\n",
        "model.eval()\n",
        "with torch.no_grad():\n",
        "    img_ = img.unsqueeze(0)\n",
        "    img_ = img_.to(device)\n",
        "    output = model(img_)\n",
        "    output = output.squeeze(0)\n",
        "\n",
        "# 시각화\n",
        "plt.figure(figsize=(15,15))\n",
        "plt.subplot(1,3,1)\n",
        "plt.imshow(to_pil_image(img))\n",
        "plt.title('input')\n",
        "plt.subplot(1,3,2)\n",
        "plt.imshow(to_pil_image(output))\n",
        "plt.title('output')\n",
        "plt.subplot(1,3,3)\n",
        "plt.imshow(to_pil_image(label))\n",
        "plt.title('ground_truth')"
      ],
      "execution_count": 80,
      "outputs": [
        {
          "output_type": "execute_result",
          "data": {
            "text/plain": [
              "Text(0.5, 1.0, 'ground_truth')"
            ]
          },
          "metadata": {
            "tags": []
          },
          "execution_count": 80
        },
        {
          "output_type": "display_data",
          "data": {
            "image/png": "[encoded data removed]",
            "text/plain": [
              "<Figure size 1080x1080 with 3 Axes>"
            ]
          },
          "metadata": {
            "tags": [],
            "needs_background": "light"
          }
        }
      ]
    },
    {
      "cell_type": "code",
      "metadata": {
        "id": "oPjB3wxuqueI"
      },
      "source": [
        ""
      ],
      "execution_count": null,
      "outputs": []
    }
  ]
}