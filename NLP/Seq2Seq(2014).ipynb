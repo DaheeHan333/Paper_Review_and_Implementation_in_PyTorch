{
  "nbformat": 4,
  "nbformat_minor": 0,
  "metadata": {
    "colab": {
      "name": "Seq2Seq(2014).ipynb",
      "provenance": [],
      "machine_shape": "hm",
      "authorship_tag": "ABX9TyOPJrWvFnkjUgR1i6YPBHSC",
      "include_colab_link": true
    },
    "kernelspec": {
      "name": "python3",
      "display_name": "Python 3"
    },
    "language_info": {
      "name": "python"
    },
    "accelerator": "GPU"
  },
  "cells": [
    {
      "cell_type": "markdown",
      "metadata": {
        "id": "view-in-github",
        "colab_type": "text"
      },
      "source": [
        "<a href=\"https://colab.research.google.com/github/Seonghoon-Yu/Paper_Review_and_Implementation_in_PyTorch/blob/master/NLP/Seq2Seq(2014).ipynb\" target=\"_parent\"><img src=\"https://colab.research.google.com/assets/colab-badge.svg\" alt=\"Open In Colab\"/></a>"
      ]
    },
    {
      "cell_type": "markdown",
      "metadata": {
        "id": "8jHrUL6wrAj1"
      },
      "source": [
        "Reference\n",
        "- https://github.com/bentrevett/pytorch-seq2seq"
      ]
    },
    {
      "cell_type": "code",
      "metadata": {
        "id": "PZnztRcmQ81a"
      },
      "source": [
        "import torch\n",
        "import torch.nn as nn\n",
        "import torch.optim as optim\n",
        "\n",
        "from torchtext.legacy.datasets import Multi30k\n",
        "from torchtext.legacy.data import Field, BucketIterator\n",
        "import spacy\n",
        "import numpy as np\n",
        "\n",
        "import random\n",
        "import math\n",
        "import time"
      ],
      "execution_count": 2,
      "outputs": []
    },
    {
      "cell_type": "markdown",
      "metadata": {
        "id": "tmt-zXpZCNN0"
      },
      "source": [
        "# 데이터 불러오기"
      ]
    },
    {
      "cell_type": "code",
      "metadata": {
        "id": "s7RpsUOArV_S"
      },
      "source": [
        "# 난수 생성\n",
        "seed = 1234\n",
        "\n",
        "random.seed(seed)\n",
        "np.random.seed(seed)\n",
        "torch.manual_seed(seed)\n",
        "torch.cuda.manual_seed(seed)\n",
        "torch.backends.cudnn.deterministic = True"
      ],
      "execution_count": 3,
      "outputs": []
    },
    {
      "cell_type": "code",
      "metadata": {
        "id": "R48gDLsUsFps"
      },
      "source": [
        "# 문장을 토큰화하는 모듈 설치\n",
        "!python -m spacy download en_core_web_sm\n",
        "!python -m spacy download de_core_news_sm"
      ],
      "execution_count": null,
      "outputs": []
    },
    {
      "cell_type": "code",
      "metadata": {
        "id": "K4wTp8s2uWFt"
      },
      "source": [
        "import de_core_news_sm\n",
        "import en_core_web_sm"
      ],
      "execution_count": 5,
      "outputs": []
    },
    {
      "cell_type": "code",
      "metadata": {
        "id": "YMEcdbWisbKd"
      },
      "source": [
        "# 문장을 토큰화하는 모델을 불러옵니다.\n",
        "spacy_en = en_core_web_sm.load()\n",
        "spacy_de = de_core_news_sm.load()"
      ],
      "execution_count": 6,
      "outputs": []
    },
    {
      "cell_type": "code",
      "metadata": {
        "id": "7EYhquMasy1P"
      },
      "source": [
        "# tokenizer function 생성\n",
        "def tokenize_de(text):\n",
        "    return [tok.text for tok in spacy_de.tokenizer(text)][::-1]\n",
        "\n",
        "def tokenize_en(text):\n",
        "    return [tok.text for tok in spacy_en.tokenizer(text)]"
      ],
      "execution_count": 7,
      "outputs": []
    },
    {
      "cell_type": "code",
      "metadata": {
        "id": "Upj_YMuNBgGf"
      },
      "source": [
        "# torchtext의 Field는 데이터를 어떻게 처리할지 조절합니다.\n",
        "SRC = Field(tokenize = tokenize_de, \n",
        "            init_token = '<sos>', \n",
        "            eos_token = '<eos>', \n",
        "            lower = True)\n",
        "\n",
        "TRG = Field(tokenize = tokenize_en, \n",
        "            init_token = '<sos>', \n",
        "            eos_token = '<eos>', \n",
        "            lower = True)"
      ],
      "execution_count": 8,
      "outputs": []
    },
    {
      "cell_type": "code",
      "metadata": {
        "colab": {
          "base_uri": "https://localhost:8080/"
        },
        "id": "qmY1w2NOGNpG",
        "outputId": "f3d60eb7-b736-4162-bf58-d46612f415f5"
      },
      "source": [
        "# train, validation, test 데이터를 불러오고, 다운로드 합니다.\n",
        "# Multi30k dataset을 사용하여, 30,000개의 영어, 독일, 프랑스어 문장을 포함합니다.\n",
        "train_data, valid_data, test_data = Multi30k.splits(exts=('.de', '.en'), fields=(SRC,TRG))"
      ],
      "execution_count": 9,
      "outputs": [
        {
          "output_type": "stream",
          "text": [
            "downloading training.tar.gz\n"
          ],
          "name": "stdout"
        },
        {
          "output_type": "stream",
          "text": [
            "training.tar.gz: 100%|██████████| 1.21M/1.21M [00:01<00:00, 895kB/s]\n"
          ],
          "name": "stderr"
        },
        {
          "output_type": "stream",
          "text": [
            "downloading validation.tar.gz\n"
          ],
          "name": "stdout"
        },
        {
          "output_type": "stream",
          "text": [
            "validation.tar.gz: 100%|██████████| 46.3k/46.3k [00:00<00:00, 172kB/s]\n"
          ],
          "name": "stderr"
        },
        {
          "output_type": "stream",
          "text": [
            "downloading mmt_task1_test2016.tar.gz\n"
          ],
          "name": "stdout"
        },
        {
          "output_type": "stream",
          "text": [
            "mmt_task1_test2016.tar.gz: 100%|██████████| 66.2k/66.2k [00:00<00:00, 163kB/s]\n"
          ],
          "name": "stderr"
        }
      ]
    },
    {
      "cell_type": "code",
      "metadata": {
        "colab": {
          "base_uri": "https://localhost:8080/"
        },
        "id": "0dD0_v4IEOy9",
        "outputId": "cfe41849-e348-4236-b25e-8c595f2fe207"
      },
      "source": [
        "print(f'Number of training examples: {len(train_data.examples)}')\n",
        "print(f'Number of validation examples: {len(valid_data.examples)}')\n",
        "print(f'Number of testing examples: {len(test_data.examples)}')"
      ],
      "execution_count": 10,
      "outputs": [
        {
          "output_type": "stream",
          "text": [
            "Number of training examples: 29000\n",
            "Number of validation examples: 1014\n",
            "Number of testing examples: 1000\n"
          ],
          "name": "stdout"
        }
      ]
    },
    {
      "cell_type": "code",
      "metadata": {
        "colab": {
          "base_uri": "https://localhost:8080/"
        },
        "id": "ZPe6sbSNELAs",
        "outputId": "389a701f-0ad2-4066-d1ef-4a08f49a58b8"
      },
      "source": [
        "print(vars(train_data.examples[0]))"
      ],
      "execution_count": 11,
      "outputs": [
        {
          "output_type": "stream",
          "text": [
            "{'src': ['.', 'büsche', 'vieler', 'nähe', 'der', 'in', 'freien', 'im', 'sind', 'männer', 'weiße', 'junge', 'zwei'], 'trg': ['two', 'young', ',', 'white', 'males', 'are', 'outside', 'near', 'many', 'bushes', '.']}\n"
          ],
          "name": "stdout"
        }
      ]
    },
    {
      "cell_type": "code",
      "metadata": {
        "id": "elRInhSnFiQt"
      },
      "source": [
        "# min_freq=2는 2번 이상 등장한 토큰을 출력합니다.\n",
        "# 토큰이 1번만 등장했다면 <unk>로 대체합니다.\n",
        "SRC.build_vocab(train_data, min_freq=2)\n",
        "TRG.build_vocab(train_data, min_freq=2)"
      ],
      "execution_count": 12,
      "outputs": []
    },
    {
      "cell_type": "code",
      "metadata": {
        "colab": {
          "base_uri": "https://localhost:8080/"
        },
        "id": "0XgPYrsnF5Cq",
        "outputId": "ace9b0e0-f638-4e26-9a45-fe581984092b"
      },
      "source": [
        "print(f'Unique tokens in source (de) vocabulary: {len(SRC.vocab)}')\n",
        "print(f'Unique tokens in target (en) vocabulary: {len(TRG.vocab)}')"
      ],
      "execution_count": 13,
      "outputs": [
        {
          "output_type": "stream",
          "text": [
            "Unique tokens in source (de) vocabulary: 7855\n",
            "Unique tokens in target (en) vocabulary: 5893\n"
          ],
          "name": "stdout"
        }
      ]
    },
    {
      "cell_type": "code",
      "metadata": {
        "id": "h7KrXHXXGHFL"
      },
      "source": [
        "# Iterator 생성\n",
        "device = torch.device('cuda' if torch.cuda.is_available() else 'cpu')\n",
        "\n",
        "batch_size = 128\n",
        "\n",
        "train_iterator, valid_iterator, test_iterator = BucketIterator.splits(\n",
        "    (train_data, valid_data, test_data), batch_size=batch_size, device=device)\n"
      ],
      "execution_count": 14,
      "outputs": []
    },
    {
      "cell_type": "markdown",
      "metadata": {
        "id": "rSoQU0lJ2VEz"
      },
      "source": [
        "# Seq2Seq 구현하기"
      ]
    },
    {
      "cell_type": "code",
      "metadata": {
        "id": "YFIbUZ7o2RrJ"
      },
      "source": [
        "# Encoder\n",
        "class Encoder(nn.Module):\n",
        "    def __init__(self, input_dim, emb_dim, hid_dim, n_layers, dropout):\n",
        "        super().__init__()\n",
        "\n",
        "        self.hid_dim = hid_dim\n",
        "        self.n_layers = n_layers\n",
        "\n",
        "        # embedding: 입력값을 emd_dim 벡터로 변경\n",
        "        self.embedding = nn.Embedding(input_dim, emb_dim)\n",
        "\n",
        "        # embedding을 입력받아 hid_dim 크기의 hidden state, cell 출력\n",
        "        self.rnn = nn.LSTM(emb_dim, hid_dim, n_layers, dropout=dropout)\n",
        "\n",
        "        self.dropout = nn.Dropout(dropout)\n",
        "\n",
        "    def forward(self, src):\n",
        "        # sre: [src_len, batch_size]\n",
        "\n",
        "        embedded = self.dropout(self.embedding(src))\n",
        "\n",
        "        # initial hidden state는 zero tensor\n",
        "        outputs, (hidden, cell) = self.rnn(embedded)\n",
        "\n",
        "        # output: [src_len, batch_size, hid dim * n directions]\n",
        "        # hidden: [n layers * n directions, batch_size, hid dim]\n",
        "        # cell: [n layers * n directions, batch_size, hid dim]\n",
        "\n",
        "        return hidden, cell"
      ],
      "execution_count": 15,
      "outputs": []
    },
    {
      "cell_type": "code",
      "metadata": {
        "id": "XtA6JrvsSoZA"
      },
      "source": [
        "# decoder\n",
        "class Decoder(nn.Module):\n",
        "    def __init__(self, output_dim, emb_dim, hid_dim, n_layers, dropout):\n",
        "        super().__init__()\n",
        "\n",
        "        self.output_dim = output_dim\n",
        "        self.hid_dim = hid_dim\n",
        "        self.n_layers = n_layers\n",
        "\n",
        "        # content vector를 입력받아 emb_dim 출력\n",
        "        self.embedding = nn.Embedding(output_dim, emb_dim)\n",
        "\n",
        "        # embedding을 입력받아 hid_dim 크기의 hidden state, cell 출력\n",
        "        self.rnn = nn.LSTM(emb_dim, hid_dim, n_layers, dropout=dropout)\n",
        "\n",
        "        self.fc_out = nn.Linear(hid_dim, output_dim)\n",
        "\n",
        "        self.dropout = nn.Dropout(dropout)\n",
        "\n",
        "    def forward(self, input, hidden, cell):\n",
        "        # input: [batch_size]\n",
        "        # hidden: [n layers * n directions, batch_size, hid dim]\n",
        "        # cell: [n layers * n directions, batch_size, hid dim]\n",
        "\n",
        "        input = input.unsqueeze(0) # input: [1, batch_size], 첫번째 input은 <SOS>\n",
        "\n",
        "        embedded = self.dropout(self.embedding(input)) # [1, batch_size, emd dim]\n",
        "\n",
        "        output, (hidden, cell) = self.rnn(embedded, (hidden, cell))\n",
        "        # output: [seq len, batch_size, hid dim * n directions]\n",
        "        # hidden: [n layers * n directions, batch size, hid dim]\n",
        "        # cell: [n layers * n directions, batch size, hid dim]\n",
        "\n",
        "        prediction = self.fc_out(output.squeeze(0)) # [batch size, output dim]\n",
        "        \n",
        "        return prediction, hidden, cell"
      ],
      "execution_count": 16,
      "outputs": []
    },
    {
      "cell_type": "code",
      "metadata": {
        "id": "vZip0fx7dfZ5"
      },
      "source": [
        "# Seq2Seq\n",
        "class Seq2Seq(nn.Module):\n",
        "    def __init__(self, encoder, decoder, device):\n",
        "        super().__init__()\n",
        "\n",
        "        self.encoder = encoder\n",
        "        self.decoder = decoder\n",
        "        self.device = device\n",
        "\n",
        "        # encoder와 decoder의 hid_dim이 일치하지 않는 경우 에러메세지\n",
        "        assert encoder.hid_dim == decoder.hid_dim, \\\n",
        "            'Hidden dimensions of encoder decoder must be equal'\n",
        "        # encoder와 decoder의 hid_dim이 일치하지 않는 경우 에러메세지\n",
        "        assert encoder.n_layers == decoder.n_layers, \\\n",
        "            'Encoder and decoder must have equal number of layers'\n",
        "\n",
        "    def forward(self, src, trg, teacher_forcing_ratio=0.5):\n",
        "        # src: [src len, batch size]\n",
        "        # trg: [trg len, batch size]\n",
        "        \n",
        "        batch_size = trg.shape[1]\n",
        "        trg_len = trg.shape[0] # 타겟 토큰 길이 얻기\n",
        "        trg_vocab_size = self.decoder.output_dim # context vector의 차원\n",
        "\n",
        "        # decoder의 output을 저장하기 위한 tensor\n",
        "        outputs = torch.zeros(trg_len, batch_size, trg_vocab_size).to(self.device)\n",
        "\n",
        "        # initial hidden state\n",
        "        hidden, cell = self.encoder(src)\n",
        "\n",
        "        # 첫 번째 입력값 <sos> 토큰\n",
        "        input = trg[0,:]\n",
        "\n",
        "        for t in range(1,trg_len): # <eos> 제외하고 trg_len-1 만큼 반복\n",
        "            output, hidden, cell = self.decoder(input, hidden, cell)\n",
        "\n",
        "            # prediction 저장\n",
        "            outputs[t] = output\n",
        "\n",
        "            # teacher forcing을 사용할지, 말지 결정\n",
        "            teacher_force = random.random() < teacher_forcing_ratio\n",
        "\n",
        "            # 가장 높은 확률을 갖은 값 얻기\n",
        "            top1 = output.argmax(1)\n",
        "\n",
        "            # teacher forcing의 경우에 다음 lstm에 target token 입력\n",
        "            input = trg[t] if teacher_force else top1\n",
        "\n",
        "        return outputs"
      ],
      "execution_count": 17,
      "outputs": []
    },
    {
      "cell_type": "markdown",
      "metadata": {
        "id": "_MW_0HZx7eKf"
      },
      "source": [
        "# 학습하기"
      ]
    },
    {
      "cell_type": "code",
      "metadata": {
        "id": "safDr_n_7dX2"
      },
      "source": [
        "# 하이퍼 파라미터 지정\n",
        "input_dim = len(SRC.vocab)\n",
        "output_dim = len(TRG.vocab)\n",
        "enc_emb_dim = 256 # 임베딩 차원\n",
        "dec_emb_dim = 256\n",
        "hid_dim = 512 # hidden state 차원\n",
        "n_layers = 2\n",
        "enc_dropout = 0.5\n",
        "dec_dropout = 0.5"
      ],
      "execution_count": 18,
      "outputs": []
    },
    {
      "cell_type": "code",
      "metadata": {
        "id": "414a2s_f9lu1"
      },
      "source": [
        "# 모델 생성\n",
        "enc = Encoder(input_dim, enc_emb_dim, hid_dim, n_layers, enc_dropout)\n",
        "dec = Decoder(output_dim, dec_emb_dim, hid_dim, n_layers, dec_dropout)\n",
        "\n",
        "model = Seq2Seq(enc, dec, device).to(device)"
      ],
      "execution_count": 19,
      "outputs": []
    },
    {
      "cell_type": "code",
      "metadata": {
        "colab": {
          "base_uri": "https://localhost:8080/"
        },
        "id": "_bJ1Hqhx90ff",
        "outputId": "ab1ea540-5d4a-45d2-caf1-861605e100a5"
      },
      "source": [
        "# 가중치 초기화\n",
        "def init_weights(m):\n",
        "    for name, param in m.named_parameters():\n",
        "        nn.init.uniform_(param.data, -0.08, 0.08)\n",
        "\n",
        "model.apply(init_weights)"
      ],
      "execution_count": 20,
      "outputs": [
        {
          "output_type": "execute_result",
          "data": {
            "text/plain": [
              "Seq2Seq(\n",
              "  (encoder): Encoder(\n",
              "    (embedding): Embedding(7855, 256)\n",
              "    (rnn): LSTM(256, 512, num_layers=2, dropout=0.5)\n",
              "    (dropout): Dropout(p=0.5, inplace=False)\n",
              "  )\n",
              "  (decoder): Decoder(\n",
              "    (embedding): Embedding(5893, 256)\n",
              "    (rnn): LSTM(256, 512, num_layers=2, dropout=0.5)\n",
              "    (fc_out): Linear(in_features=512, out_features=5893, bias=True)\n",
              "    (dropout): Dropout(p=0.5, inplace=False)\n",
              "  )\n",
              ")"
            ]
          },
          "metadata": {
            "tags": []
          },
          "execution_count": 20
        }
      ]
    },
    {
      "cell_type": "code",
      "metadata": {
        "colab": {
          "base_uri": "https://localhost:8080/"
        },
        "id": "L99rCBr2-MEX",
        "outputId": "c78ac2d7-1c3c-498c-87ea-39bc3f2fba9c"
      },
      "source": [
        "# 모델의 학습가능한 파라미터 수 측정\n",
        "def count_parameters(model):\n",
        "    return sum(p.numel() for p in model.parameters() if p.requires_grad)\n",
        "\n",
        "print(f'The model has {count_parameters(model):,} trainableparameters')"
      ],
      "execution_count": 21,
      "outputs": [
        {
          "output_type": "stream",
          "text": [
            "The model has 13,899,013 trainableparameters\n"
          ],
          "name": "stdout"
        }
      ]
    },
    {
      "cell_type": "code",
      "metadata": {
        "id": "q-Hg5D15Aa8I"
      },
      "source": [
        "# optimizer\n",
        "optimizer = optim.Adam(model.parameters())\n",
        "\n",
        "# loss function\n",
        "# pad에 해당하는 index는 무시합니다.\n",
        "trg_pad_idx = TRG.vocab.stoi[TRG.pad_token]\n",
        "criterion = nn.CrossEntropyLoss(ignore_index=trg_pad_idx)"
      ],
      "execution_count": 22,
      "outputs": []
    },
    {
      "cell_type": "code",
      "metadata": {
        "id": "ghjRtVV4BEmh"
      },
      "source": [
        "# 학습을 위한 함수\n",
        "def train(model, iterator, optimizer, criterion, clip):\n",
        "    model.train()\n",
        "    epoch_loss = 0\n",
        "\n",
        "    for i, batch in enumerate(iterator):\n",
        "        src = batch.src\n",
        "        trg = batch.trg\n",
        "        optimizer.zero_grad()\n",
        "\n",
        "        output = model(src,trg) # [trg len, batch size, output dim]\n",
        "        output_dim = output.shape[-1]\n",
        "        output = output[1:].view(-1, output_dim) # loss 계산을 위해 1d로 변경\n",
        "        trg = trg[1:].view(-1) # loss 계산을 위해 1d로 변경\n",
        "\n",
        "        loss = criterion(output, trg)\n",
        "        loss.backward()\n",
        "\n",
        "        # 기울기 clip\n",
        "        torch.nn.utils.clip_grad_norm_(model.parameters(), clip)\n",
        "\n",
        "        optimizer.step()\n",
        "\n",
        "        epoch_loss += loss.item()\n",
        "\n",
        "    return epoch_loss / len(iterator)"
      ],
      "execution_count": 23,
      "outputs": []
    },
    {
      "cell_type": "code",
      "metadata": {
        "id": "oihlLtRNEazX"
      },
      "source": [
        "# evaluation function\n",
        "def evaluate(model, iterator, criterion):\n",
        "    model.eval()\n",
        "    epoch_loss = 0\n",
        "    \n",
        "    with torch.no_grad():\n",
        "        for i, batch in enumerate(iterator):\n",
        "            src = batch.src\n",
        "            trg = batch.trg\n",
        "\n",
        "            # output: [trg len, batch size, output dim]\n",
        "            output = model(src, trg, 0) # teacher forcing off\n",
        "            output_dim = output.shape[-1]\n",
        "            output = output[1:].view(-1, output_dim) # [(trg len -1) * batch size, output dim]\n",
        "            trg = trg[1:].view(-1) # [(trg len -1) * batch size, output dim]\n",
        "\n",
        "            loss = criterion(output, trg)\n",
        "\n",
        "            epoch_loss += loss.item()\n",
        "\n",
        "    return epoch_loss / len(iterator)"
      ],
      "execution_count": 24,
      "outputs": []
    },
    {
      "cell_type": "code",
      "metadata": {
        "id": "lJRnApGqcFxp"
      },
      "source": [
        "# function to count training time\n",
        "def epoch_time(start_time, end_time):\n",
        "    elapsed_time = end_time - start_time\n",
        "    elapsed_mins = int(elapsed_time / 60)\n",
        "    elapsed_secs = int(elapsed_time - (elapsed_mins * 60))\n",
        "    return elapsed_mins, elapsed_secs"
      ],
      "execution_count": 25,
      "outputs": []
    },
    {
      "cell_type": "code",
      "metadata": {
        "colab": {
          "base_uri": "https://localhost:8080/"
        },
        "id": "0g-gw0EVdein",
        "outputId": "18572fdb-4058-4fa1-8f14-7f68023ffea6"
      },
      "source": [
        "# 학습 시작\n",
        "num_epochs = 10\n",
        "clip = 1\n",
        "\n",
        "best_valid_loss = float('inf')\n",
        "\n",
        "for epoch in range(num_epochs):\n",
        "   \n",
        "    start_time = time.time()\n",
        "    \n",
        "    train_loss = train(model, train_iterator, optimizer, criterion, clip)\n",
        "    valid_loss = evaluate(model, valid_iterator, criterion)\n",
        "    \n",
        "    end_time = time.time()\n",
        "    \n",
        "    epoch_mins, epoch_secs = epoch_time(start_time, end_time)\n",
        "    \n",
        "    if valid_loss < best_valid_loss:\n",
        "        best_valid_loss = valid_loss\n",
        "        torch.save(model.state_dict(), 'tut1-model.pt')\n",
        "    \n",
        "    print(f'Epoch: {epoch+1:02} | Time: {epoch_mins}m {epoch_secs}s')\n",
        "    print(f'\\tTrain Loss: {train_loss:.3f} | Train PPL: {math.exp(train_loss):7.3f}')\n",
        "    print(f'\\t Val. Loss: {valid_loss:.3f} |  Val. PPL: {math.exp(valid_loss):7.3f}')"
      ],
      "execution_count": 26,
      "outputs": [
        {
          "output_type": "stream",
          "text": [
            "Epoch: 01 | Time: 0m 29s\n",
            "\tTrain Loss: 5.044 | Train PPL: 155.110\n",
            "\t Val. Loss: 4.929 |  Val. PPL: 138.214\n",
            "Epoch: 02 | Time: 0m 28s\n",
            "\tTrain Loss: 4.470 | Train PPL:  87.387\n",
            "\t Val. Loss: 4.781 |  Val. PPL: 119.248\n",
            "Epoch: 03 | Time: 0m 27s\n",
            "\tTrain Loss: 4.176 | Train PPL:  65.075\n",
            "\t Val. Loss: 4.577 |  Val. PPL:  97.259\n",
            "Epoch: 04 | Time: 0m 27s\n",
            "\tTrain Loss: 3.968 | Train PPL:  52.867\n",
            "\t Val. Loss: 4.464 |  Val. PPL:  86.826\n",
            "Epoch: 05 | Time: 0m 28s\n",
            "\tTrain Loss: 3.798 | Train PPL:  44.634\n",
            "\t Val. Loss: 4.381 |  Val. PPL:  79.918\n",
            "Epoch: 06 | Time: 0m 28s\n",
            "\tTrain Loss: 3.651 | Train PPL:  38.494\n",
            "\t Val. Loss: 4.248 |  Val. PPL:  69.979\n",
            "Epoch: 07 | Time: 0m 28s\n",
            "\tTrain Loss: 3.516 | Train PPL:  33.638\n",
            "\t Val. Loss: 4.120 |  Val. PPL:  61.579\n",
            "Epoch: 08 | Time: 0m 28s\n",
            "\tTrain Loss: 3.382 | Train PPL:  29.439\n",
            "\t Val. Loss: 4.018 |  Val. PPL:  55.595\n",
            "Epoch: 09 | Time: 0m 28s\n",
            "\tTrain Loss: 3.260 | Train PPL:  26.048\n",
            "\t Val. Loss: 3.964 |  Val. PPL:  52.648\n",
            "Epoch: 10 | Time: 0m 28s\n",
            "\tTrain Loss: 3.182 | Train PPL:  24.106\n",
            "\t Val. Loss: 3.945 |  Val. PPL:  51.673\n"
          ],
          "name": "stdout"
        }
      ]
    },
    {
      "cell_type": "code",
      "metadata": {
        "colab": {
          "base_uri": "https://localhost:8080/"
        },
        "id": "FOHw8t5ZeN_U",
        "outputId": "3dc0e0b4-e118-46cb-ea5c-236ab4d3b534"
      },
      "source": [
        "# best val loss일 때의 가중치를 불러옵니다.\n",
        "model.load_state_dict(torch.load('tut1-model.pt'))\n",
        "\n",
        "# test loss를 측정합니다.\n",
        "test_loss = evaluate(model, test_iterator, criterion)\n",
        "\n",
        "print(f'| Test Loss: {test_loss:.3f} | Test PPL: {math.exp(test_loss):7.3f} |')"
      ],
      "execution_count": 27,
      "outputs": [
        {
          "output_type": "stream",
          "text": [
            "| Test Loss: 3.949 | Test PPL:  51.865 |\n"
          ],
          "name": "stdout"
        }
      ]
    },
    {
      "cell_type": "code",
      "metadata": {
        "id": "ByclsTApd7Tz"
      },
      "source": [
        ""
      ],
      "execution_count": 27,
      "outputs": []
    }
  ]
}