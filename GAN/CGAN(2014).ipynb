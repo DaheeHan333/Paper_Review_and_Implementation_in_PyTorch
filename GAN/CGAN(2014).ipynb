{
  "nbformat": 4,
  "nbformat_minor": 0,
  "metadata": {
    "colab": {
      "name": "CGAN(2014).ipynb",
      "provenance": [],
      "collapsed_sections": [],
      "machine_shape": "hm",
      "authorship_tag": "ABX9TyOJdq6BaIznPxzIMPFojuwA",
      "include_colab_link": true
    },
    "kernelspec": {
      "name": "python3",
      "display_name": "Python 3"
    },
    "language_info": {
      "name": "python"
    },
    "accelerator": "GPU",
    "widgets": {
      "application/vnd.jupyter.widget-state+json": {
        "676523c9f1ca45dc830351587b929009": {
          "model_module": "@jupyter-widgets/controls",
          "model_name": "HBoxModel",
          "state": {
            "_view_name": "HBoxView",
            "_dom_classes": [],
            "_model_name": "HBoxModel",
            "_view_module": "@jupyter-widgets/controls",
            "_model_module_version": "1.5.0",
            "_view_count": null,
            "_view_module_version": "1.5.0",
            "box_style": "",
            "layout": "IPY_MODEL_2a7d5d90b5424446a7e6a3e304f49809",
            "_model_module": "@jupyter-widgets/controls",
            "children": [
              "IPY_MODEL_663e0f8ef1fc4a0a9ce0202775abb612",
              "IPY_MODEL_d11648c61a2f4b629ed0e1aa7edcb004"
            ]
          }
        },
        "2a7d5d90b5424446a7e6a3e304f49809": {
          "model_module": "@jupyter-widgets/base",
          "model_name": "LayoutModel",
          "state": {
            "_view_name": "LayoutView",
            "grid_template_rows": null,
            "right": null,
            "justify_content": null,
            "_view_module": "@jupyter-widgets/base",
            "overflow": null,
            "_model_module_version": "1.2.0",
            "_view_count": null,
            "flex_flow": null,
            "width": null,
            "min_width": null,
            "border": null,
            "align_items": null,
            "bottom": null,
            "_model_module": "@jupyter-widgets/base",
            "top": null,
            "grid_column": null,
            "overflow_y": null,
            "overflow_x": null,
            "grid_auto_flow": null,
            "grid_area": null,
            "grid_template_columns": null,
            "flex": null,
            "_model_name": "LayoutModel",
            "justify_items": null,
            "grid_row": null,
            "max_height": null,
            "align_content": null,
            "visibility": null,
            "align_self": null,
            "height": null,
            "min_height": null,
            "padding": null,
            "grid_auto_rows": null,
            "grid_gap": null,
            "max_width": null,
            "order": null,
            "_view_module_version": "1.2.0",
            "grid_template_areas": null,
            "object_position": null,
            "object_fit": null,
            "grid_auto_columns": null,
            "margin": null,
            "display": null,
            "left": null
          }
        },
        "663e0f8ef1fc4a0a9ce0202775abb612": {
          "model_module": "@jupyter-widgets/controls",
          "model_name": "FloatProgressModel",
          "state": {
            "_view_name": "ProgressView",
            "style": "IPY_MODEL_4961cffa593b49709336158b3d509593",
            "_dom_classes": [],
            "description": "",
            "_model_name": "FloatProgressModel",
            "bar_style": "success",
            "max": 9912422,
            "_view_module": "@jupyter-widgets/controls",
            "_model_module_version": "1.5.0",
            "value": 9912422,
            "_view_count": null,
            "_view_module_version": "1.5.0",
            "orientation": "horizontal",
            "min": 0,
            "description_tooltip": null,
            "_model_module": "@jupyter-widgets/controls",
            "layout": "IPY_MODEL_fd24f7c8eb8143369320e4b8e3507ba1"
          }
        },
        "d11648c61a2f4b629ed0e1aa7edcb004": {
          "model_module": "@jupyter-widgets/controls",
          "model_name": "HTMLModel",
          "state": {
            "_view_name": "HTMLView",
            "style": "IPY_MODEL_d1f9942dbdda49d78d4fa021b23b9466",
            "_dom_classes": [],
            "description": "",
            "_model_name": "HTMLModel",
            "placeholder": "​",
            "_view_module": "@jupyter-widgets/controls",
            "_model_module_version": "1.5.0",
            "value": " 9913344/? [00:04&lt;00:00, 1995815.29it/s]",
            "_view_count": null,
            "_view_module_version": "1.5.0",
            "description_tooltip": null,
            "_model_module": "@jupyter-widgets/controls",
            "layout": "IPY_MODEL_9b9b8d94f87d48d3833085647019fa51"
          }
        },
        "4961cffa593b49709336158b3d509593": {
          "model_module": "@jupyter-widgets/controls",
          "model_name": "ProgressStyleModel",
          "state": {
            "_view_name": "StyleView",
            "_model_name": "ProgressStyleModel",
            "description_width": "initial",
            "_view_module": "@jupyter-widgets/base",
            "_model_module_version": "1.5.0",
            "_view_count": null,
            "_view_module_version": "1.2.0",
            "bar_color": null,
            "_model_module": "@jupyter-widgets/controls"
          }
        },
        "fd24f7c8eb8143369320e4b8e3507ba1": {
          "model_module": "@jupyter-widgets/base",
          "model_name": "LayoutModel",
          "state": {
            "_view_name": "LayoutView",
            "grid_template_rows": null,
            "right": null,
            "justify_content": null,
            "_view_module": "@jupyter-widgets/base",
            "overflow": null,
            "_model_module_version": "1.2.0",
            "_view_count": null,
            "flex_flow": null,
            "width": null,
            "min_width": null,
            "border": null,
            "align_items": null,
            "bottom": null,
            "_model_module": "@jupyter-widgets/base",
            "top": null,
            "grid_column": null,
            "overflow_y": null,
            "overflow_x": null,
            "grid_auto_flow": null,
            "grid_area": null,
            "grid_template_columns": null,
            "flex": null,
            "_model_name": "LayoutModel",
            "justify_items": null,
            "grid_row": null,
            "max_height": null,
            "align_content": null,
            "visibility": null,
            "align_self": null,
            "height": null,
            "min_height": null,
            "padding": null,
            "grid_auto_rows": null,
            "grid_gap": null,
            "max_width": null,
            "order": null,
            "_view_module_version": "1.2.0",
            "grid_template_areas": null,
            "object_position": null,
            "object_fit": null,
            "grid_auto_columns": null,
            "margin": null,
            "display": null,
            "left": null
          }
        },
        "d1f9942dbdda49d78d4fa021b23b9466": {
          "model_module": "@jupyter-widgets/controls",
          "model_name": "DescriptionStyleModel",
          "state": {
            "_view_name": "StyleView",
            "_model_name": "DescriptionStyleModel",
            "description_width": "",
            "_view_module": "@jupyter-widgets/base",
            "_model_module_version": "1.5.0",
            "_view_count": null,
            "_view_module_version": "1.2.0",
            "_model_module": "@jupyter-widgets/controls"
          }
        },
        "9b9b8d94f87d48d3833085647019fa51": {
          "model_module": "@jupyter-widgets/base",
          "model_name": "LayoutModel",
          "state": {
            "_view_name": "LayoutView",
            "grid_template_rows": null,
            "right": null,
            "justify_content": null,
            "_view_module": "@jupyter-widgets/base",
            "overflow": null,
            "_model_module_version": "1.2.0",
            "_view_count": null,
            "flex_flow": null,
            "width": null,
            "min_width": null,
            "border": null,
            "align_items": null,
            "bottom": null,
            "_model_module": "@jupyter-widgets/base",
            "top": null,
            "grid_column": null,
            "overflow_y": null,
            "overflow_x": null,
            "grid_auto_flow": null,
            "grid_area": null,
            "grid_template_columns": null,
            "flex": null,
            "_model_name": "LayoutModel",
            "justify_items": null,
            "grid_row": null,
            "max_height": null,
            "align_content": null,
            "visibility": null,
            "align_self": null,
            "height": null,
            "min_height": null,
            "padding": null,
            "grid_auto_rows": null,
            "grid_gap": null,
            "max_width": null,
            "order": null,
            "_view_module_version": "1.2.0",
            "grid_template_areas": null,
            "object_position": null,
            "object_fit": null,
            "grid_auto_columns": null,
            "margin": null,
            "display": null,
            "left": null
          }
        },
        "fc39be9caeae4e3299b60a6c1f779dc2": {
          "model_module": "@jupyter-widgets/controls",
          "model_name": "HBoxModel",
          "state": {
            "_view_name": "HBoxView",
            "_dom_classes": [],
            "_model_name": "HBoxModel",
            "_view_module": "@jupyter-widgets/controls",
            "_model_module_version": "1.5.0",
            "_view_count": null,
            "_view_module_version": "1.5.0",
            "box_style": "",
            "layout": "IPY_MODEL_bc5d8180520e4c539b67f158be18185d",
            "_model_module": "@jupyter-widgets/controls",
            "children": [
              "IPY_MODEL_7b5cb66f33bd456697754a66b4d31d31",
              "IPY_MODEL_355ccfec639241f7a3b82a7703be1d19"
            ]
          }
        },
        "bc5d8180520e4c539b67f158be18185d": {
          "model_module": "@jupyter-widgets/base",
          "model_name": "LayoutModel",
          "state": {
            "_view_name": "LayoutView",
            "grid_template_rows": null,
            "right": null,
            "justify_content": null,
            "_view_module": "@jupyter-widgets/base",
            "overflow": null,
            "_model_module_version": "1.2.0",
            "_view_count": null,
            "flex_flow": null,
            "width": null,
            "min_width": null,
            "border": null,
            "align_items": null,
            "bottom": null,
            "_model_module": "@jupyter-widgets/base",
            "top": null,
            "grid_column": null,
            "overflow_y": null,
            "overflow_x": null,
            "grid_auto_flow": null,
            "grid_area": null,
            "grid_template_columns": null,
            "flex": null,
            "_model_name": "LayoutModel",
            "justify_items": null,
            "grid_row": null,
            "max_height": null,
            "align_content": null,
            "visibility": null,
            "align_self": null,
            "height": null,
            "min_height": null,
            "padding": null,
            "grid_auto_rows": null,
            "grid_gap": null,
            "max_width": null,
            "order": null,
            "_view_module_version": "1.2.0",
            "grid_template_areas": null,
            "object_position": null,
            "object_fit": null,
            "grid_auto_columns": null,
            "margin": null,
            "display": null,
            "left": null
          }
        },
        "7b5cb66f33bd456697754a66b4d31d31": {
          "model_module": "@jupyter-widgets/controls",
          "model_name": "FloatProgressModel",
          "state": {
            "_view_name": "ProgressView",
            "style": "IPY_MODEL_3e3254b27ba14bd39e93bf339fa7be40",
            "_dom_classes": [],
            "description": "",
            "_model_name": "FloatProgressModel",
            "bar_style": "success",
            "max": 28881,
            "_view_module": "@jupyter-widgets/controls",
            "_model_module_version": "1.5.0",
            "value": 28881,
            "_view_count": null,
            "_view_module_version": "1.5.0",
            "orientation": "horizontal",
            "min": 0,
            "description_tooltip": null,
            "_model_module": "@jupyter-widgets/controls",
            "layout": "IPY_MODEL_ec4e046e6d7944a4938d668105a808de"
          }
        },
        "355ccfec639241f7a3b82a7703be1d19": {
          "model_module": "@jupyter-widgets/controls",
          "model_name": "HTMLModel",
          "state": {
            "_view_name": "HTMLView",
            "style": "IPY_MODEL_06c9a6baa03c46dd8a074f338ccb8eca",
            "_dom_classes": [],
            "description": "",
            "_model_name": "HTMLModel",
            "placeholder": "​",
            "_view_module": "@jupyter-widgets/controls",
            "_model_module_version": "1.5.0",
            "value": " 29696/? [00:00&lt;00:00, 35932.14it/s]",
            "_view_count": null,
            "_view_module_version": "1.5.0",
            "description_tooltip": null,
            "_model_module": "@jupyter-widgets/controls",
            "layout": "IPY_MODEL_11ccb8076f8c4e5eadc4356c00875ab2"
          }
        },
        "3e3254b27ba14bd39e93bf339fa7be40": {
          "model_module": "@jupyter-widgets/controls",
          "model_name": "ProgressStyleModel",
          "state": {
            "_view_name": "StyleView",
            "_model_name": "ProgressStyleModel",
            "description_width": "initial",
            "_view_module": "@jupyter-widgets/base",
            "_model_module_version": "1.5.0",
            "_view_count": null,
            "_view_module_version": "1.2.0",
            "bar_color": null,
            "_model_module": "@jupyter-widgets/controls"
          }
        },
        "ec4e046e6d7944a4938d668105a808de": {
          "model_module": "@jupyter-widgets/base",
          "model_name": "LayoutModel",
          "state": {
            "_view_name": "LayoutView",
            "grid_template_rows": null,
            "right": null,
            "justify_content": null,
            "_view_module": "@jupyter-widgets/base",
            "overflow": null,
            "_model_module_version": "1.2.0",
            "_view_count": null,
            "flex_flow": null,
            "width": null,
            "min_width": null,
            "border": null,
            "align_items": null,
            "bottom": null,
            "_model_module": "@jupyter-widgets/base",
            "top": null,
            "grid_column": null,
            "overflow_y": null,
            "overflow_x": null,
            "grid_auto_flow": null,
            "grid_area": null,
            "grid_template_columns": null,
            "flex": null,
            "_model_name": "LayoutModel",
            "justify_items": null,
            "grid_row": null,
            "max_height": null,
            "align_content": null,
            "visibility": null,
            "align_self": null,
            "height": null,
            "min_height": null,
            "padding": null,
            "grid_auto_rows": null,
            "grid_gap": null,
            "max_width": null,
            "order": null,
            "_view_module_version": "1.2.0",
            "grid_template_areas": null,
            "object_position": null,
            "object_fit": null,
            "grid_auto_columns": null,
            "margin": null,
            "display": null,
            "left": null
          }
        },
        "06c9a6baa03c46dd8a074f338ccb8eca": {
          "model_module": "@jupyter-widgets/controls",
          "model_name": "DescriptionStyleModel",
          "state": {
            "_view_name": "StyleView",
            "_model_name": "DescriptionStyleModel",
            "description_width": "",
            "_view_module": "@jupyter-widgets/base",
            "_model_module_version": "1.5.0",
            "_view_count": null,
            "_view_module_version": "1.2.0",
            "_model_module": "@jupyter-widgets/controls"
          }
        },
        "11ccb8076f8c4e5eadc4356c00875ab2": {
          "model_module": "@jupyter-widgets/base",
          "model_name": "LayoutModel",
          "state": {
            "_view_name": "LayoutView",
            "grid_template_rows": null,
            "right": null,
            "justify_content": null,
            "_view_module": "@jupyter-widgets/base",
            "overflow": null,
            "_model_module_version": "1.2.0",
            "_view_count": null,
            "flex_flow": null,
            "width": null,
            "min_width": null,
            "border": null,
            "align_items": null,
            "bottom": null,
            "_model_module": "@jupyter-widgets/base",
            "top": null,
            "grid_column": null,
            "overflow_y": null,
            "overflow_x": null,
            "grid_auto_flow": null,
            "grid_area": null,
            "grid_template_columns": null,
            "flex": null,
            "_model_name": "LayoutModel",
            "justify_items": null,
            "grid_row": null,
            "max_height": null,
            "align_content": null,
            "visibility": null,
            "align_self": null,
            "height": null,
            "min_height": null,
            "padding": null,
            "grid_auto_rows": null,
            "grid_gap": null,
            "max_width": null,
            "order": null,
            "_view_module_version": "1.2.0",
            "grid_template_areas": null,
            "object_position": null,
            "object_fit": null,
            "grid_auto_columns": null,
            "margin": null,
            "display": null,
            "left": null
          }
        },
        "19e38368f00f475e8d3eac5bfd37f055": {
          "model_module": "@jupyter-widgets/controls",
          "model_name": "HBoxModel",
          "state": {
            "_view_name": "HBoxView",
            "_dom_classes": [],
            "_model_name": "HBoxModel",
            "_view_module": "@jupyter-widgets/controls",
            "_model_module_version": "1.5.0",
            "_view_count": null,
            "_view_module_version": "1.5.0",
            "box_style": "",
            "layout": "IPY_MODEL_439373576dc14a3a97d6e262161ab3f4",
            "_model_module": "@jupyter-widgets/controls",
            "children": [
              "IPY_MODEL_d590a92d42ae4232bf568684b8730340",
              "IPY_MODEL_8f2bd435065348abba1c866cbe99bab9"
            ]
          }
        },
        "439373576dc14a3a97d6e262161ab3f4": {
          "model_module": "@jupyter-widgets/base",
          "model_name": "LayoutModel",
          "state": {
            "_view_name": "LayoutView",
            "grid_template_rows": null,
            "right": null,
            "justify_content": null,
            "_view_module": "@jupyter-widgets/base",
            "overflow": null,
            "_model_module_version": "1.2.0",
            "_view_count": null,
            "flex_flow": null,
            "width": null,
            "min_width": null,
            "border": null,
            "align_items": null,
            "bottom": null,
            "_model_module": "@jupyter-widgets/base",
            "top": null,
            "grid_column": null,
            "overflow_y": null,
            "overflow_x": null,
            "grid_auto_flow": null,
            "grid_area": null,
            "grid_template_columns": null,
            "flex": null,
            "_model_name": "LayoutModel",
            "justify_items": null,
            "grid_row": null,
            "max_height": null,
            "align_content": null,
            "visibility": null,
            "align_self": null,
            "height": null,
            "min_height": null,
            "padding": null,
            "grid_auto_rows": null,
            "grid_gap": null,
            "max_width": null,
            "order": null,
            "_view_module_version": "1.2.0",
            "grid_template_areas": null,
            "object_position": null,
            "object_fit": null,
            "grid_auto_columns": null,
            "margin": null,
            "display": null,
            "left": null
          }
        },
        "d590a92d42ae4232bf568684b8730340": {
          "model_module": "@jupyter-widgets/controls",
          "model_name": "FloatProgressModel",
          "state": {
            "_view_name": "ProgressView",
            "style": "IPY_MODEL_367deb7dc0244a218d71597e8cf88ba9",
            "_dom_classes": [],
            "description": "",
            "_model_name": "FloatProgressModel",
            "bar_style": "success",
            "max": 1648877,
            "_view_module": "@jupyter-widgets/controls",
            "_model_module_version": "1.5.0",
            "value": 1648877,
            "_view_count": null,
            "_view_module_version": "1.5.0",
            "orientation": "horizontal",
            "min": 0,
            "description_tooltip": null,
            "_model_module": "@jupyter-widgets/controls",
            "layout": "IPY_MODEL_cee1414d4f3e4c3ebf15981e5e511774"
          }
        },
        "8f2bd435065348abba1c866cbe99bab9": {
          "model_module": "@jupyter-widgets/controls",
          "model_name": "HTMLModel",
          "state": {
            "_view_name": "HTMLView",
            "style": "IPY_MODEL_232c3846074540de80f9aec748c18fdd",
            "_dom_classes": [],
            "description": "",
            "_model_name": "HTMLModel",
            "placeholder": "​",
            "_view_module": "@jupyter-widgets/controls",
            "_model_module_version": "1.5.0",
            "value": " 1649664/? [00:01&lt;00:00, 885944.65it/s]",
            "_view_count": null,
            "_view_module_version": "1.5.0",
            "description_tooltip": null,
            "_model_module": "@jupyter-widgets/controls",
            "layout": "IPY_MODEL_5e6e0a34934143f6b87e1a0ab1c7ca9d"
          }
        },
        "367deb7dc0244a218d71597e8cf88ba9": {
          "model_module": "@jupyter-widgets/controls",
          "model_name": "ProgressStyleModel",
          "state": {
            "_view_name": "StyleView",
            "_model_name": "ProgressStyleModel",
            "description_width": "initial",
            "_view_module": "@jupyter-widgets/base",
            "_model_module_version": "1.5.0",
            "_view_count": null,
            "_view_module_version": "1.2.0",
            "bar_color": null,
            "_model_module": "@jupyter-widgets/controls"
          }
        },
        "cee1414d4f3e4c3ebf15981e5e511774": {
          "model_module": "@jupyter-widgets/base",
          "model_name": "LayoutModel",
          "state": {
            "_view_name": "LayoutView",
            "grid_template_rows": null,
            "right": null,
            "justify_content": null,
            "_view_module": "@jupyter-widgets/base",
            "overflow": null,
            "_model_module_version": "1.2.0",
            "_view_count": null,
            "flex_flow": null,
            "width": null,
            "min_width": null,
            "border": null,
            "align_items": null,
            "bottom": null,
            "_model_module": "@jupyter-widgets/base",
            "top": null,
            "grid_column": null,
            "overflow_y": null,
            "overflow_x": null,
            "grid_auto_flow": null,
            "grid_area": null,
            "grid_template_columns": null,
            "flex": null,
            "_model_name": "LayoutModel",
            "justify_items": null,
            "grid_row": null,
            "max_height": null,
            "align_content": null,
            "visibility": null,
            "align_self": null,
            "height": null,
            "min_height": null,
            "padding": null,
            "grid_auto_rows": null,
            "grid_gap": null,
            "max_width": null,
            "order": null,
            "_view_module_version": "1.2.0",
            "grid_template_areas": null,
            "object_position": null,
            "object_fit": null,
            "grid_auto_columns": null,
            "margin": null,
            "display": null,
            "left": null
          }
        },
        "232c3846074540de80f9aec748c18fdd": {
          "model_module": "@jupyter-widgets/controls",
          "model_name": "DescriptionStyleModel",
          "state": {
            "_view_name": "StyleView",
            "_model_name": "DescriptionStyleModel",
            "description_width": "",
            "_view_module": "@jupyter-widgets/base",
            "_model_module_version": "1.5.0",
            "_view_count": null,
            "_view_module_version": "1.2.0",
            "_model_module": "@jupyter-widgets/controls"
          }
        },
        "5e6e0a34934143f6b87e1a0ab1c7ca9d": {
          "model_module": "@jupyter-widgets/base",
          "model_name": "LayoutModel",
          "state": {
            "_view_name": "LayoutView",
            "grid_template_rows": null,
            "right": null,
            "justify_content": null,
            "_view_module": "@jupyter-widgets/base",
            "overflow": null,
            "_model_module_version": "1.2.0",
            "_view_count": null,
            "flex_flow": null,
            "width": null,
            "min_width": null,
            "border": null,
            "align_items": null,
            "bottom": null,
            "_model_module": "@jupyter-widgets/base",
            "top": null,
            "grid_column": null,
            "overflow_y": null,
            "overflow_x": null,
            "grid_auto_flow": null,
            "grid_area": null,
            "grid_template_columns": null,
            "flex": null,
            "_model_name": "LayoutModel",
            "justify_items": null,
            "grid_row": null,
            "max_height": null,
            "align_content": null,
            "visibility": null,
            "align_self": null,
            "height": null,
            "min_height": null,
            "padding": null,
            "grid_auto_rows": null,
            "grid_gap": null,
            "max_width": null,
            "order": null,
            "_view_module_version": "1.2.0",
            "grid_template_areas": null,
            "object_position": null,
            "object_fit": null,
            "grid_auto_columns": null,
            "margin": null,
            "display": null,
            "left": null
          }
        },
        "4a8872fa43dd4aaa85e4b82d418d4c76": {
          "model_module": "@jupyter-widgets/controls",
          "model_name": "HBoxModel",
          "state": {
            "_view_name": "HBoxView",
            "_dom_classes": [],
            "_model_name": "HBoxModel",
            "_view_module": "@jupyter-widgets/controls",
            "_model_module_version": "1.5.0",
            "_view_count": null,
            "_view_module_version": "1.5.0",
            "box_style": "",
            "layout": "IPY_MODEL_3531dffaf7974b61ae5a61524cf968e3",
            "_model_module": "@jupyter-widgets/controls",
            "children": [
              "IPY_MODEL_4a947cc5fd3a42c7942043c90e7a6d71",
              "IPY_MODEL_4340692237c64c0dbee8c9d69b022f41"
            ]
          }
        },
        "3531dffaf7974b61ae5a61524cf968e3": {
          "model_module": "@jupyter-widgets/base",
          "model_name": "LayoutModel",
          "state": {
            "_view_name": "LayoutView",
            "grid_template_rows": null,
            "right": null,
            "justify_content": null,
            "_view_module": "@jupyter-widgets/base",
            "overflow": null,
            "_model_module_version": "1.2.0",
            "_view_count": null,
            "flex_flow": null,
            "width": null,
            "min_width": null,
            "border": null,
            "align_items": null,
            "bottom": null,
            "_model_module": "@jupyter-widgets/base",
            "top": null,
            "grid_column": null,
            "overflow_y": null,
            "overflow_x": null,
            "grid_auto_flow": null,
            "grid_area": null,
            "grid_template_columns": null,
            "flex": null,
            "_model_name": "LayoutModel",
            "justify_items": null,
            "grid_row": null,
            "max_height": null,
            "align_content": null,
            "visibility": null,
            "align_self": null,
            "height": null,
            "min_height": null,
            "padding": null,
            "grid_auto_rows": null,
            "grid_gap": null,
            "max_width": null,
            "order": null,
            "_view_module_version": "1.2.0",
            "grid_template_areas": null,
            "object_position": null,
            "object_fit": null,
            "grid_auto_columns": null,
            "margin": null,
            "display": null,
            "left": null
          }
        },
        "4a947cc5fd3a42c7942043c90e7a6d71": {
          "model_module": "@jupyter-widgets/controls",
          "model_name": "FloatProgressModel",
          "state": {
            "_view_name": "ProgressView",
            "style": "IPY_MODEL_08153f6b33224f7a9ee2a77253782d58",
            "_dom_classes": [],
            "description": "",
            "_model_name": "FloatProgressModel",
            "bar_style": "success",
            "max": 4542,
            "_view_module": "@jupyter-widgets/controls",
            "_model_module_version": "1.5.0",
            "value": 4542,
            "_view_count": null,
            "_view_module_version": "1.5.0",
            "orientation": "horizontal",
            "min": 0,
            "description_tooltip": null,
            "_model_module": "@jupyter-widgets/controls",
            "layout": "IPY_MODEL_2639acc7468e43959673e795d4b2a5be"
          }
        },
        "4340692237c64c0dbee8c9d69b022f41": {
          "model_module": "@jupyter-widgets/controls",
          "model_name": "HTMLModel",
          "state": {
            "_view_name": "HTMLView",
            "style": "IPY_MODEL_41952cea974847c1915f4af692f35a95",
            "_dom_classes": [],
            "description": "",
            "_model_name": "HTMLModel",
            "placeholder": "​",
            "_view_module": "@jupyter-widgets/controls",
            "_model_module_version": "1.5.0",
            "value": " 5120/? [00:00&lt;00:00, 19828.39it/s]",
            "_view_count": null,
            "_view_module_version": "1.5.0",
            "description_tooltip": null,
            "_model_module": "@jupyter-widgets/controls",
            "layout": "IPY_MODEL_3de6889ffb0e4f2b9fb89dd2789f8c65"
          }
        },
        "08153f6b33224f7a9ee2a77253782d58": {
          "model_module": "@jupyter-widgets/controls",
          "model_name": "ProgressStyleModel",
          "state": {
            "_view_name": "StyleView",
            "_model_name": "ProgressStyleModel",
            "description_width": "initial",
            "_view_module": "@jupyter-widgets/base",
            "_model_module_version": "1.5.0",
            "_view_count": null,
            "_view_module_version": "1.2.0",
            "bar_color": null,
            "_model_module": "@jupyter-widgets/controls"
          }
        },
        "2639acc7468e43959673e795d4b2a5be": {
          "model_module": "@jupyter-widgets/base",
          "model_name": "LayoutModel",
          "state": {
            "_view_name": "LayoutView",
            "grid_template_rows": null,
            "right": null,
            "justify_content": null,
            "_view_module": "@jupyter-widgets/base",
            "overflow": null,
            "_model_module_version": "1.2.0",
            "_view_count": null,
            "flex_flow": null,
            "width": null,
            "min_width": null,
            "border": null,
            "align_items": null,
            "bottom": null,
            "_model_module": "@jupyter-widgets/base",
            "top": null,
            "grid_column": null,
            "overflow_y": null,
            "overflow_x": null,
            "grid_auto_flow": null,
            "grid_area": null,
            "grid_template_columns": null,
            "flex": null,
            "_model_name": "LayoutModel",
            "justify_items": null,
            "grid_row": null,
            "max_height": null,
            "align_content": null,
            "visibility": null,
            "align_self": null,
            "height": null,
            "min_height": null,
            "padding": null,
            "grid_auto_rows": null,
            "grid_gap": null,
            "max_width": null,
            "order": null,
            "_view_module_version": "1.2.0",
            "grid_template_areas": null,
            "object_position": null,
            "object_fit": null,
            "grid_auto_columns": null,
            "margin": null,
            "display": null,
            "left": null
          }
        },
        "41952cea974847c1915f4af692f35a95": {
          "model_module": "@jupyter-widgets/controls",
          "model_name": "DescriptionStyleModel",
          "state": {
            "_view_name": "StyleView",
            "_model_name": "DescriptionStyleModel",
            "description_width": "",
            "_view_module": "@jupyter-widgets/base",
            "_model_module_version": "1.5.0",
            "_view_count": null,
            "_view_module_version": "1.2.0",
            "_model_module": "@jupyter-widgets/controls"
          }
        },
        "3de6889ffb0e4f2b9fb89dd2789f8c65": {
          "model_module": "@jupyter-widgets/base",
          "model_name": "LayoutModel",
          "state": {
            "_view_name": "LayoutView",
            "grid_template_rows": null,
            "right": null,
            "justify_content": null,
            "_view_module": "@jupyter-widgets/base",
            "overflow": null,
            "_model_module_version": "1.2.0",
            "_view_count": null,
            "flex_flow": null,
            "width": null,
            "min_width": null,
            "border": null,
            "align_items": null,
            "bottom": null,
            "_model_module": "@jupyter-widgets/base",
            "top": null,
            "grid_column": null,
            "overflow_y": null,
            "overflow_x": null,
            "grid_auto_flow": null,
            "grid_area": null,
            "grid_template_columns": null,
            "flex": null,
            "_model_name": "LayoutModel",
            "justify_items": null,
            "grid_row": null,
            "max_height": null,
            "align_content": null,
            "visibility": null,
            "align_self": null,
            "height": null,
            "min_height": null,
            "padding": null,
            "grid_auto_rows": null,
            "grid_gap": null,
            "max_width": null,
            "order": null,
            "_view_module_version": "1.2.0",
            "grid_template_areas": null,
            "object_position": null,
            "object_fit": null,
            "grid_auto_columns": null,
            "margin": null,
            "display": null,
            "left": null
          }
        }
      }
    }
  },
  "cells": [
    {
      "cell_type": "markdown",
      "metadata": {
        "id": "view-in-github",
        "colab_type": "text"
      },
      "source": [
        "<a href=\"https://colab.research.google.com/github/Seonghoon-Yu/Paper_Review_and_Implementation_in_PyTorch/blob/master/GAN/CGAN(2014).ipynb\" target=\"_parent\"><img src=\"https://colab.research.google.com/assets/colab-badge.svg\" alt=\"Open In Colab\"/></a>"
      ]
    },
    {
      "cell_type": "markdown",
      "metadata": {
        "id": "EPkKRIJf-W_L"
      },
      "source": [
        "# Reference\n",
        "- https://github.com/eriklindernoren/PyTorch-GAN"
      ]
    },
    {
      "cell_type": "code",
      "metadata": {
        "id": "aK-cBcOo_jrY"
      },
      "source": [
        "import torchvision.datasets as datasets\n",
        "import os\n",
        "import torchvision.transforms as transforms\n",
        "from torch.utils.data import DataLoader\n",
        "from torchvision import utils\n",
        "import matplotlib.pyplot as plt\n",
        "import numpy as np\n",
        "import torch.nn as nn\n",
        "import torch\n",
        "import torch.nn.functional as F\n",
        "import time\n",
        "from torchvision.transforms.functional import to_pil_image\n",
        "%matplotlib inline\n",
        "\n",
        "device = torch.device('cuda' if torch.cuda.is_available() else 'cpu')"
      ],
      "execution_count": 21,
      "outputs": []
    },
    {
      "cell_type": "markdown",
      "metadata": {
        "id": "6NUMjW9U_h_n"
      },
      "source": [
        "# 데이터셋 불러오기"
      ]
    },
    {
      "cell_type": "code",
      "metadata": {
        "id": "iX0jbCd5-Fv_"
      },
      "source": [
        "# 데이터 경로 지정\n",
        "path2data = './data'\n",
        "os.makedirs(path2data, exist_ok=True)"
      ],
      "execution_count": 2,
      "outputs": []
    },
    {
      "cell_type": "code",
      "metadata": {
        "id": "M8Ju0WP4AH0I"
      },
      "source": [
        "# Transformation 정의\n",
        "train_transform = transforms.Compose([\n",
        "                        transforms.ToTensor(),\n",
        "                        transforms.Normalize([0.5],[0.5]),\n",
        "])"
      ],
      "execution_count": 3,
      "outputs": []
    },
    {
      "cell_type": "code",
      "metadata": {
        "id": "pm1Exmqe_9F3",
        "colab": {
          "base_uri": "https://localhost:8080/",
          "height": 823,
          "referenced_widgets": [
            "676523c9f1ca45dc830351587b929009",
            "2a7d5d90b5424446a7e6a3e304f49809",
            "663e0f8ef1fc4a0a9ce0202775abb612",
            "d11648c61a2f4b629ed0e1aa7edcb004",
            "4961cffa593b49709336158b3d509593",
            "fd24f7c8eb8143369320e4b8e3507ba1",
            "d1f9942dbdda49d78d4fa021b23b9466",
            "9b9b8d94f87d48d3833085647019fa51",
            "fc39be9caeae4e3299b60a6c1f779dc2",
            "bc5d8180520e4c539b67f158be18185d",
            "7b5cb66f33bd456697754a66b4d31d31",
            "355ccfec639241f7a3b82a7703be1d19",
            "3e3254b27ba14bd39e93bf339fa7be40",
            "ec4e046e6d7944a4938d668105a808de",
            "06c9a6baa03c46dd8a074f338ccb8eca",
            "11ccb8076f8c4e5eadc4356c00875ab2",
            "19e38368f00f475e8d3eac5bfd37f055",
            "439373576dc14a3a97d6e262161ab3f4",
            "d590a92d42ae4232bf568684b8730340",
            "8f2bd435065348abba1c866cbe99bab9",
            "367deb7dc0244a218d71597e8cf88ba9",
            "cee1414d4f3e4c3ebf15981e5e511774",
            "232c3846074540de80f9aec748c18fdd",
            "5e6e0a34934143f6b87e1a0ab1c7ca9d",
            "4a8872fa43dd4aaa85e4b82d418d4c76",
            "3531dffaf7974b61ae5a61524cf968e3",
            "4a947cc5fd3a42c7942043c90e7a6d71",
            "4340692237c64c0dbee8c9d69b022f41",
            "08153f6b33224f7a9ee2a77253782d58",
            "2639acc7468e43959673e795d4b2a5be",
            "41952cea974847c1915f4af692f35a95",
            "3de6889ffb0e4f2b9fb89dd2789f8c65"
          ]
        },
        "outputId": "7a27f407-e595-40cf-a787-782df1246835"
      },
      "source": [
        "# MNIST dataset 불러오기\n",
        "train_ds = datasets.MNIST(path2data, train=True, transform=train_transform, download=True)"
      ],
      "execution_count": 4,
      "outputs": [
        {
          "output_type": "stream",
          "text": [
            "Downloading http://yann.lecun.com/exdb/mnist/train-images-idx3-ubyte.gz\n",
            "Failed to download (trying next):\n",
            "HTTP Error 503: Service Unavailable\n",
            "\n",
            "Downloading https://ossci-datasets.s3.amazonaws.com/mnist/train-images-idx3-ubyte.gz\n",
            "Downloading https://ossci-datasets.s3.amazonaws.com/mnist/train-images-idx3-ubyte.gz to ./data/MNIST/raw/train-images-idx3-ubyte.gz\n"
          ],
          "name": "stdout"
        },
        {
          "output_type": "display_data",
          "data": {
            "application/vnd.jupyter.widget-view+json": {
              "model_id": "676523c9f1ca45dc830351587b929009",
              "version_minor": 0,
              "version_major": 2
            },
            "text/plain": [
              "HBox(children=(FloatProgress(value=0.0, max=9912422.0), HTML(value='')))"
            ]
          },
          "metadata": {
            "tags": []
          }
        },
        {
          "output_type": "stream",
          "text": [
            "\n",
            "Extracting ./data/MNIST/raw/train-images-idx3-ubyte.gz to ./data/MNIST/raw\n",
            "\n",
            "Downloading http://yann.lecun.com/exdb/mnist/train-labels-idx1-ubyte.gz\n",
            "Downloading http://yann.lecun.com/exdb/mnist/train-labels-idx1-ubyte.gz to ./data/MNIST/raw/train-labels-idx1-ubyte.gz\n"
          ],
          "name": "stdout"
        },
        {
          "output_type": "display_data",
          "data": {
            "application/vnd.jupyter.widget-view+json": {
              "model_id": "fc39be9caeae4e3299b60a6c1f779dc2",
              "version_minor": 0,
              "version_major": 2
            },
            "text/plain": [
              "HBox(children=(FloatProgress(value=0.0, max=28881.0), HTML(value='')))"
            ]
          },
          "metadata": {
            "tags": []
          }
        },
        {
          "output_type": "stream",
          "text": [
            "\n",
            "Extracting ./data/MNIST/raw/train-labels-idx1-ubyte.gz to ./data/MNIST/raw\n",
            "\n",
            "Downloading http://yann.lecun.com/exdb/mnist/t10k-images-idx3-ubyte.gz\n",
            "Downloading http://yann.lecun.com/exdb/mnist/t10k-images-idx3-ubyte.gz to ./data/MNIST/raw/t10k-images-idx3-ubyte.gz\n",
            "Failed to download (trying next):\n",
            "HTTP Error 503: Service Unavailable\n",
            "\n",
            "Downloading https://ossci-datasets.s3.amazonaws.com/mnist/t10k-images-idx3-ubyte.gz\n",
            "Downloading https://ossci-datasets.s3.amazonaws.com/mnist/t10k-images-idx3-ubyte.gz to ./data/MNIST/raw/t10k-images-idx3-ubyte.gz\n"
          ],
          "name": "stdout"
        },
        {
          "output_type": "display_data",
          "data": {
            "application/vnd.jupyter.widget-view+json": {
              "model_id": "19e38368f00f475e8d3eac5bfd37f055",
              "version_minor": 0,
              "version_major": 2
            },
            "text/plain": [
              "HBox(children=(FloatProgress(value=0.0, max=1648877.0), HTML(value='')))"
            ]
          },
          "metadata": {
            "tags": []
          }
        },
        {
          "output_type": "stream",
          "text": [
            "\n",
            "Extracting ./data/MNIST/raw/t10k-images-idx3-ubyte.gz to ./data/MNIST/raw\n",
            "\n",
            "Downloading http://yann.lecun.com/exdb/mnist/t10k-labels-idx1-ubyte.gz\n",
            "Failed to download (trying next):\n",
            "HTTP Error 503: Service Unavailable\n",
            "\n",
            "Downloading https://ossci-datasets.s3.amazonaws.com/mnist/t10k-labels-idx1-ubyte.gz\n",
            "Downloading https://ossci-datasets.s3.amazonaws.com/mnist/t10k-labels-idx1-ubyte.gz to ./data/MNIST/raw/t10k-labels-idx1-ubyte.gz\n"
          ],
          "name": "stdout"
        },
        {
          "output_type": "display_data",
          "data": {
            "application/vnd.jupyter.widget-view+json": {
              "model_id": "4a8872fa43dd4aaa85e4b82d418d4c76",
              "version_minor": 0,
              "version_major": 2
            },
            "text/plain": [
              "HBox(children=(FloatProgress(value=0.0, max=4542.0), HTML(value='')))"
            ]
          },
          "metadata": {
            "tags": []
          }
        },
        {
          "output_type": "stream",
          "text": [
            "\n",
            "Extracting ./data/MNIST/raw/t10k-labels-idx1-ubyte.gz to ./data/MNIST/raw\n",
            "\n",
            "Processing...\n",
            "Done!\n"
          ],
          "name": "stdout"
        },
        {
          "output_type": "stream",
          "text": [
            "/usr/local/lib/python3.7/dist-packages/torchvision/datasets/mnist.py:502: UserWarning: The given NumPy array is not writeable, and PyTorch does not support non-writeable tensors. This means you can write to the underlying (supposedly non-writeable) NumPy array using the tensor. You may want to copy the array to protect its data or make it writeable before converting it to a tensor. This type of warning will be suppressed for the rest of this program. (Triggered internally at  /pytorch/torch/csrc/utils/tensor_numpy.cpp:143.)\n",
            "  return torch.from_numpy(parsed.astype(m[2], copy=False)).view(*s)\n"
          ],
          "name": "stderr"
        }
      ]
    },
    {
      "cell_type": "code",
      "metadata": {
        "colab": {
          "base_uri": "https://localhost:8080/",
          "height": 261
        },
        "id": "3yuDGUWCAjP2",
        "outputId": "10e80839-0823-45f1-d06a-fd83d88b2f60"
      },
      "source": [
        "# 샘플 이미지 확인하기\n",
        "img, label = train_ds.data, train_ds.targets\n",
        "\n",
        "# 차원 추가\n",
        "if len(img.shape) == 3:\n",
        "    img = img.unsqueeze(1) # B*C*H*W\n",
        "\n",
        "# 그리드 생성\n",
        "img_grid = utils.make_grid(img[:40], nrow=8, padding=2)\n",
        "\n",
        "def show(img):\n",
        "    npimg = img.numpy()\n",
        "    npimg_tr = npimg.transpose((1,2,0)) # [C,H,W] -> [H,W,C]\n",
        "    plt.imshow(npimg_tr, interpolation='nearest')\n",
        "\n",
        "show(img_grid)"
      ],
      "execution_count": 5,
      "outputs": [
        {
          "output_type": "display_data",
          "data": {
            "image/png": "[encoded data removed]",
            "text/plain": [
              "<Figure size 432x288 with 1 Axes>"
            ]
          },
          "metadata": {
            "tags": [],
            "needs_background": "light"
          }
        }
      ]
    },
    {
      "cell_type": "code",
      "metadata": {
        "id": "1zFe6DsRBzYA"
      },
      "source": [
        "# 데이터 로더 생성\n",
        "train_dl = DataLoader(train_ds, batch_size=64, shuffle=True)"
      ],
      "execution_count": 6,
      "outputs": []
    },
    {
      "cell_type": "markdown",
      "metadata": {
        "id": "T5JW2OtrDv9q"
      },
      "source": [
        "# 모델 구축하기"
      ]
    },
    {
      "cell_type": "code",
      "metadata": {
        "id": "ZopEtWtFEpUA"
      },
      "source": [
        "# 파라미터 설정\n",
        "params = {'num_classes':10,\n",
        "          'nz':100,\n",
        "          'input_size':(1,28,28)}"
      ],
      "execution_count": 7,
      "outputs": []
    },
    {
      "cell_type": "code",
      "metadata": {
        "colab": {
          "base_uri": "https://localhost:8080/"
        },
        "id": "yCoX7aiqDvXt",
        "outputId": "69d929cf-2a6b-4c08-dfa1-00d560869c3d"
      },
      "source": [
        "# Generator: 가짜 이미지를 생성합니다.\n",
        "# noise와 label을 결합하여 학습합니다..\n",
        "\n",
        "class Generator(nn.Module):\n",
        "    def __init__(self, params):\n",
        "        super().__init__()\n",
        "        self.num_classes = params['num_classes'] # 클래스 수, 10\n",
        "        self.nz = params['nz'] # 노이즈 수, 100\n",
        "        self.input_size = params['input_size'] # (1,28,28)\n",
        "\n",
        "        # noise와 label을 결합할 용도인 label embedding matrix를 생성합니다.\n",
        "        self.label_emb = nn.Embedding(self.num_classes, self.num_classes)\n",
        "\n",
        "        self.gen = nn.Sequential(\n",
        "            nn.Linear(self.nz + self.num_classes, 128),\n",
        "            nn.LeakyReLU(0.2),\n",
        "            nn.Linear(128,256),\n",
        "            nn.BatchNorm1d(256),\n",
        "            nn.LeakyReLU(0.2),\n",
        "            nn.Linear(256,512),\n",
        "            nn.BatchNorm1d(512),\n",
        "            nn.LeakyReLU(0.2),\n",
        "            nn.Linear(512,1024),\n",
        "            nn.BatchNorm1d(1024),\n",
        "            nn.LeakyReLU(0.2),\n",
        "            nn.Linear(1024,int(np.prod(self.input_size))),\n",
        "            nn.Tanh()\n",
        "        )\n",
        "\n",
        "    def forward(self, noise, labels):\n",
        "        # noise와 label 결합\n",
        "        gen_input = torch.cat((self.label_emb(labels),noise),-1)\n",
        "        x = self.gen(gen_input)\n",
        "        x = x.view(x.size(0), *self.input_size)\n",
        "        return x\n",
        "\n",
        "# check\n",
        "x = torch.randn(16,100,device=device) # 노이즈\n",
        "label = torch.randint(0,10,(16,),device=device) # 레이블\n",
        "model_gen = Generator(params).to(device)\n",
        "out_gen = model_gen(x,label) # 가짜 이미지 생성\n",
        "print(out_gen.shape)"
      ],
      "execution_count": 9,
      "outputs": [
        {
          "output_type": "stream",
          "text": [
            "torch.Size([16, 1, 28, 28])\n"
          ],
          "name": "stdout"
        }
      ]
    },
    {
      "cell_type": "code",
      "metadata": {
        "id": "-yruL-VyFz3d",
        "colab": {
          "base_uri": "https://localhost:8080/"
        },
        "outputId": "9038bac1-40db-4249-9670-a4bb8eed57ba"
      },
      "source": [
        "# Discriminator: 가짜 이미지와 진짜 이미지를 식별합니다.\n",
        "class Discriminator(nn.Module):\n",
        "    def __init__(self,params):\n",
        "        super().__init__()\n",
        "        self.input_size = params['input_size']\n",
        "        self.num_classes = params['num_classes']\n",
        "\n",
        "        self.label_embedding = nn.Embedding(self.num_classes, self.num_classes)\n",
        "\n",
        "        self.dis = nn.Sequential(\n",
        "            nn.Linear(self.num_classes+int(np.prod(self.input_size)),512),\n",
        "            nn.LeakyReLU(0.2),\n",
        "            nn.Linear(512,512),\n",
        "            nn.Dropout(0.4),\n",
        "            nn.LeakyReLU(0.2),\n",
        "            nn.Linear(512,512),\n",
        "            nn.Dropout(0.4),\n",
        "            nn.LeakyReLU(0.2),\n",
        "            nn.Linear(512,1),\n",
        "            nn.Sigmoid()\n",
        "        )\n",
        "\n",
        "    def forward(self, img, labels):\n",
        "        # 이미지와 label 결합\n",
        "        dis_input = torch.cat((img.view(img.size(0),-1),self.label_embedding(labels)),-1)\n",
        "\n",
        "        x = self.dis(dis_input)\n",
        "        return x\n",
        "\n",
        "# check\n",
        "x = torch.randn(16,1,28,28,device=device)\n",
        "label = torch.randint(0,10,(16,), device=device)\n",
        "model_dis = Discriminator(params).to(device)\n",
        "out_dis = model_dis(x,label)\n",
        "print(out_dis.shape)"
      ],
      "execution_count": 12,
      "outputs": [
        {
          "output_type": "stream",
          "text": [
            "torch.Size([16, 1])\n"
          ],
          "name": "stdout"
        }
      ]
    },
    {
      "cell_type": "code",
      "metadata": {
        "id": "ZL-slG4D0o3B"
      },
      "source": [
        "# 가중치 초기화\n",
        "def initialize_weights(model):\n",
        "    classname = model.__class__.__name__\n",
        "    # fc layer\n",
        "    if classname.find('Linear') != -1:\n",
        "        nn.init.normal_(model.weight.data, 0.0, 0.02)\n",
        "        nn.init.constant_(model.bias.data, 0)\n",
        "    # batchnorm\n",
        "    elif classname.find('BatchNorm') != -1:\n",
        "        nn.init.normal_(model.weight.data, 1.0, 0.02)\n",
        "        nn.init.constant_(model.bias.data, 0)\n",
        "\n",
        "# 가중치 초기화 적용\n",
        "model_gen.apply(initialize_weights);\n",
        "model_dis.apply(initialize_weights);"
      ],
      "execution_count": 13,
      "outputs": []
    },
    {
      "cell_type": "markdown",
      "metadata": {
        "id": "49dIJ2hXyLEQ"
      },
      "source": [
        "# 학습하기"
      ]
    },
    {
      "cell_type": "code",
      "metadata": {
        "id": "euwce_iRwIr9"
      },
      "source": [
        "# 손실 함수\n",
        "loss_func = nn.BCELoss()\n",
        "\n",
        "from torch import optim\n",
        "\n",
        "lr = 2e-4\n",
        "beta1 = 0.5\n",
        "beta2 = 0.999\n",
        "\n",
        "# optimization\n",
        "opt_dis = optim.Adam(model_dis.parameters(), lr=lr, betas=(beta1,beta2))\n",
        "opt_gen = optim.Adam(model_gen.parameters(), lr=lr, betas=(beta1,beta2))"
      ],
      "execution_count": 14,
      "outputs": []
    },
    {
      "cell_type": "code",
      "metadata": {
        "id": "LYFmnnSNfRdz"
      },
      "source": [
        "nz = params['nz']\n",
        "num_epochs = 100\n",
        "\n",
        "loss_history={'gen':[],\n",
        "              'dis':[]}"
      ],
      "execution_count": 15,
      "outputs": []
    },
    {
      "cell_type": "code",
      "metadata": {
        "colab": {
          "base_uri": "https://localhost:8080/"
        },
        "id": "OmHdxw8z1PyC",
        "outputId": "457dfc9b-964c-4ee5-8cf5-2f6974254d59"
      },
      "source": [
        "# 학습\n",
        "batch_count = 0\n",
        "start_time = time.time()\n",
        "model_dis.train()\n",
        "model_gen.train()\n",
        "\n",
        "for epoch in range(num_epochs):\n",
        "    for xb, yb in train_dl:\n",
        "        ba_si = xb.shape[0]\n",
        "\n",
        "        xb = xb.to(device)\n",
        "        yb = yb.to(device)\n",
        "        yb_real = torch.Tensor(ba_si,1).fill_(1.0).to(device) # real_label\n",
        "        yb_fake = torch.Tensor(ba_si,1).fill_(0.0).to(device) # fake_label\n",
        "\n",
        "        # Genetator\n",
        "        model_gen.zero_grad()\n",
        "        noise = torch.randn(ba_si,100).to(device) # 노이즈 생성\n",
        "        gen_label = torch.randint(0,10,(ba_si,)).to(device) # label 생성\n",
        "\n",
        "        # 가짜 이미지 생성\n",
        "        out_gen = model_gen(noise, gen_label)\n",
        "\n",
        "        # 가짜 이미지 판별\n",
        "        out_dis = model_dis(out_gen, gen_label)\n",
        "\n",
        "        loss_gen = loss_func(out_dis, yb_real)\n",
        "        loss_gen.backward()\n",
        "        opt_gen.step()\n",
        "\n",
        "        # Discriminator\n",
        "        model_dis.zero_grad()\n",
        "        \n",
        "        # 진짜 이미지 판별\n",
        "        out_dis = model_dis(xb, yb)\n",
        "        loss_real = loss_func(out_dis, yb_real)\n",
        "\n",
        "        # 가짜 이미지 판별\n",
        "        out_dis = model_dis(out_gen.detach(),gen_label)\n",
        "        loss_fake = loss_func(out_dis,yb_fake)\n",
        "\n",
        "        loss_dis = (loss_real + loss_fake) / 2\n",
        "        loss_dis.backward()\n",
        "        opt_dis.step()\n",
        "\n",
        "        loss_history['gen'].append(loss_gen.item())\n",
        "        loss_history['dis'].append(loss_dis.item())\n",
        "\n",
        "        batch_count += 1\n",
        "        if batch_count % 1000 == 0:\n",
        "            print('Epoch: %.0f, G_Loss: %.6f, D_Loss: %.6f, time: %.2f min' %(epoch, loss_gen.item(), loss_dis.item(), (time.time()-start_time)/60))"
      ],
      "execution_count": 16,
      "outputs": [
        {
          "output_type": "stream",
          "text": [
            "Epoch: 1, G_Loss: 0.896676, D_Loss: 0.499484, time: 0.26 min\n",
            "Epoch: 2, G_Loss: 0.967998, D_Loss: 0.471882, time: 0.51 min\n",
            "Epoch: 3, G_Loss: 2.329415, D_Loss: 0.716923, time: 0.77 min\n",
            "Epoch: 4, G_Loss: 1.660968, D_Loss: 0.457410, time: 1.03 min\n",
            "Epoch: 5, G_Loss: 0.496273, D_Loss: 0.727448, time: 1.28 min\n",
            "Epoch: 6, G_Loss: 1.296877, D_Loss: 0.393681, time: 1.54 min\n",
            "Epoch: 7, G_Loss: 1.861641, D_Loss: 0.414556, time: 1.80 min\n",
            "Epoch: 8, G_Loss: 1.328592, D_Loss: 0.401836, time: 2.06 min\n",
            "Epoch: 9, G_Loss: 1.403271, D_Loss: 0.282814, time: 2.31 min\n",
            "Epoch: 10, G_Loss: 1.081508, D_Loss: 0.401637, time: 2.57 min\n",
            "Epoch: 11, G_Loss: 1.570261, D_Loss: 0.365352, time: 2.83 min\n",
            "Epoch: 12, G_Loss: 1.595660, D_Loss: 0.388387, time: 3.09 min\n",
            "Epoch: 13, G_Loss: 2.118074, D_Loss: 0.384503, time: 3.34 min\n",
            "Epoch: 14, G_Loss: 1.883606, D_Loss: 0.258953, time: 3.60 min\n",
            "Epoch: 15, G_Loss: 1.698022, D_Loss: 0.311643, time: 3.86 min\n",
            "Epoch: 17, G_Loss: 2.901019, D_Loss: 0.562372, time: 4.12 min\n",
            "Epoch: 18, G_Loss: 1.718289, D_Loss: 0.330941, time: 4.37 min\n",
            "Epoch: 19, G_Loss: 1.326494, D_Loss: 0.391680, time: 4.63 min\n",
            "Epoch: 20, G_Loss: 1.757725, D_Loss: 0.260668, time: 4.89 min\n",
            "Epoch: 21, G_Loss: 2.396623, D_Loss: 0.165518, time: 5.15 min\n",
            "Epoch: 22, G_Loss: 2.088562, D_Loss: 0.344915, time: 5.41 min\n",
            "Epoch: 23, G_Loss: 2.266553, D_Loss: 0.318968, time: 5.66 min\n",
            "Epoch: 24, G_Loss: 2.670224, D_Loss: 0.463190, time: 5.92 min\n",
            "Epoch: 25, G_Loss: 2.020448, D_Loss: 0.310878, time: 6.18 min\n",
            "Epoch: 26, G_Loss: 2.697944, D_Loss: 0.175858, time: 6.44 min\n",
            "Epoch: 27, G_Loss: 2.221205, D_Loss: 0.335541, time: 6.70 min\n",
            "Epoch: 28, G_Loss: 1.368729, D_Loss: 0.526244, time: 6.96 min\n",
            "Epoch: 29, G_Loss: 2.761853, D_Loss: 0.465426, time: 7.22 min\n",
            "Epoch: 30, G_Loss: 2.919341, D_Loss: 0.285374, time: 7.48 min\n",
            "Epoch: 31, G_Loss: 2.845361, D_Loss: 0.321893, time: 7.74 min\n",
            "Epoch: 33, G_Loss: 1.654370, D_Loss: 0.537354, time: 8.00 min\n",
            "Epoch: 34, G_Loss: 2.284312, D_Loss: 0.290184, time: 8.26 min\n",
            "Epoch: 35, G_Loss: 2.406929, D_Loss: 0.173645, time: 8.51 min\n",
            "Epoch: 36, G_Loss: 2.119648, D_Loss: 0.298941, time: 8.77 min\n",
            "Epoch: 37, G_Loss: 1.885036, D_Loss: 0.286359, time: 9.03 min\n",
            "Epoch: 38, G_Loss: 1.265072, D_Loss: 0.400784, time: 9.29 min\n",
            "Epoch: 39, G_Loss: 1.982843, D_Loss: 0.261875, time: 9.55 min\n",
            "Epoch: 40, G_Loss: 2.777748, D_Loss: 0.295140, time: 9.81 min\n",
            "Epoch: 41, G_Loss: 1.339365, D_Loss: 0.494253, time: 10.07 min\n",
            "Epoch: 42, G_Loss: 2.187207, D_Loss: 0.258120, time: 10.33 min\n",
            "Epoch: 43, G_Loss: 2.747379, D_Loss: 0.356744, time: 10.59 min\n",
            "Epoch: 44, G_Loss: 3.289388, D_Loss: 0.441902, time: 10.85 min\n",
            "Epoch: 45, G_Loss: 1.923536, D_Loss: 0.306177, time: 11.11 min\n",
            "Epoch: 46, G_Loss: 3.282254, D_Loss: 0.249712, time: 11.37 min\n",
            "Epoch: 47, G_Loss: 2.756881, D_Loss: 0.301859, time: 11.63 min\n",
            "Epoch: 49, G_Loss: 2.470598, D_Loss: 0.248442, time: 11.89 min\n",
            "Epoch: 50, G_Loss: 3.196443, D_Loss: 0.394822, time: 12.15 min\n",
            "Epoch: 51, G_Loss: 2.806112, D_Loss: 0.283933, time: 12.41 min\n",
            "Epoch: 52, G_Loss: 2.950227, D_Loss: 0.336384, time: 12.66 min\n",
            "Epoch: 53, G_Loss: 3.442710, D_Loss: 0.166681, time: 12.93 min\n",
            "Epoch: 54, G_Loss: 3.350502, D_Loss: 0.165283, time: 13.19 min\n",
            "Epoch: 55, G_Loss: 2.735472, D_Loss: 0.250998, time: 13.45 min\n",
            "Epoch: 56, G_Loss: 2.407112, D_Loss: 0.154768, time: 13.71 min\n",
            "Epoch: 57, G_Loss: 2.383736, D_Loss: 0.259554, time: 13.97 min\n",
            "Epoch: 58, G_Loss: 1.880899, D_Loss: 0.311328, time: 14.23 min\n",
            "Epoch: 59, G_Loss: 2.578851, D_Loss: 0.366095, time: 14.49 min\n",
            "Epoch: 60, G_Loss: 2.497265, D_Loss: 0.256497, time: 14.75 min\n",
            "Epoch: 61, G_Loss: 2.146369, D_Loss: 0.288385, time: 15.01 min\n",
            "Epoch: 62, G_Loss: 1.561531, D_Loss: 0.284285, time: 15.27 min\n",
            "Epoch: 63, G_Loss: 2.547730, D_Loss: 0.347327, time: 15.53 min\n",
            "Epoch: 65, G_Loss: 1.962526, D_Loss: 0.276329, time: 15.80 min\n",
            "Epoch: 66, G_Loss: 2.905253, D_Loss: 0.204031, time: 16.06 min\n",
            "Epoch: 67, G_Loss: 2.878268, D_Loss: 0.233860, time: 16.32 min\n",
            "Epoch: 68, G_Loss: 2.019226, D_Loss: 0.292682, time: 16.58 min\n",
            "Epoch: 69, G_Loss: 1.742746, D_Loss: 0.377678, time: 16.84 min\n",
            "Epoch: 70, G_Loss: 1.458658, D_Loss: 0.491952, time: 17.10 min\n",
            "Epoch: 71, G_Loss: 1.742410, D_Loss: 0.373884, time: 17.36 min\n",
            "Epoch: 72, G_Loss: 1.774646, D_Loss: 0.383493, time: 17.61 min\n",
            "Epoch: 73, G_Loss: 2.034978, D_Loss: 0.381008, time: 17.87 min\n",
            "Epoch: 74, G_Loss: 3.543087, D_Loss: 0.248530, time: 18.13 min\n",
            "Epoch: 75, G_Loss: 2.624224, D_Loss: 0.320356, time: 18.39 min\n",
            "Epoch: 76, G_Loss: 1.820911, D_Loss: 0.350667, time: 18.65 min\n",
            "Epoch: 77, G_Loss: 2.065274, D_Loss: 0.255230, time: 18.91 min\n",
            "Epoch: 78, G_Loss: 1.558583, D_Loss: 0.401434, time: 19.17 min\n",
            "Epoch: 79, G_Loss: 2.467794, D_Loss: 0.300354, time: 19.43 min\n",
            "Epoch: 81, G_Loss: 1.997721, D_Loss: 0.209236, time: 19.69 min\n",
            "Epoch: 82, G_Loss: 2.550334, D_Loss: 0.414959, time: 19.94 min\n",
            "Epoch: 83, G_Loss: 2.007287, D_Loss: 0.344383, time: 20.20 min\n",
            "Epoch: 84, G_Loss: 1.947394, D_Loss: 0.361770, time: 20.47 min\n",
            "Epoch: 85, G_Loss: 2.085693, D_Loss: 0.241677, time: 20.72 min\n",
            "Epoch: 86, G_Loss: 3.077245, D_Loss: 0.215597, time: 20.98 min\n",
            "Epoch: 87, G_Loss: 2.435822, D_Loss: 0.266848, time: 21.24 min\n",
            "Epoch: 88, G_Loss: 2.204185, D_Loss: 0.329052, time: 21.50 min\n",
            "Epoch: 89, G_Loss: 2.278167, D_Loss: 0.238553, time: 21.76 min\n",
            "Epoch: 90, G_Loss: 1.927035, D_Loss: 0.307356, time: 22.02 min\n",
            "Epoch: 91, G_Loss: 1.718226, D_Loss: 0.293688, time: 22.28 min\n",
            "Epoch: 92, G_Loss: 2.220038, D_Loss: 0.365056, time: 22.54 min\n",
            "Epoch: 93, G_Loss: 2.231026, D_Loss: 0.402749, time: 22.80 min\n",
            "Epoch: 94, G_Loss: 3.286707, D_Loss: 0.197980, time: 23.05 min\n",
            "Epoch: 95, G_Loss: 1.862112, D_Loss: 0.278001, time: 23.31 min\n",
            "Epoch: 97, G_Loss: 2.059506, D_Loss: 0.331920, time: 23.57 min\n",
            "Epoch: 98, G_Loss: 1.592305, D_Loss: 0.390261, time: 23.83 min\n",
            "Epoch: 99, G_Loss: 1.986897, D_Loss: 0.460079, time: 24.08 min\n"
          ],
          "name": "stdout"
        }
      ]
    },
    {
      "cell_type": "code",
      "metadata": {
        "colab": {
          "base_uri": "https://localhost:8080/",
          "height": 350
        },
        "id": "5qIjAs4p8EJz",
        "outputId": "7225b9e6-21eb-4e18-f69b-e05ed81a48f3"
      },
      "source": [
        "# plot loss history\n",
        "# 저는 실수로, loss history에 loss값을 저장 안했네요..ㅎㅎ\n",
        "# 학습 코드에 loss history에 loss를 추가하도록 수정했으므로\n",
        "# 위 코드로 학습한다면 loss history를 출력할 수 있습니다.\n",
        "plt.figure(figsize=(10,5))\n",
        "plt.title('Loss Progress')\n",
        "plt.plot(loss_history['gen'], label='Gen. Loss')\n",
        "plt.plot(loss_history['dis'], label='Dis. Loss')\n",
        "plt.xlabel('batch count')\n",
        "plt.ylabel('Loss')\n",
        "plt.legend()\n",
        "plt.show()"
      ],
      "execution_count": 17,
      "outputs": [
        {
          "output_type": "display_data",
          "data": {
            "image/png": "[encoded data removed]",
            "text/plain": [
              "<Figure size 720x360 with 1 Axes>"
            ]
          },
          "metadata": {
            "tags": [],
            "needs_background": "light"
          }
        }
      ]
    },
    {
      "cell_type": "code",
      "metadata": {
        "id": "ERN5438sAVeC"
      },
      "source": [
        "# 가중치 저장\n",
        "path2models = './models/'\n",
        "os.makedirs(path2models, exist_ok=True)\n",
        "path2weights_gen = os.path.join(path2models, 'weights_gen.pt')\n",
        "path2weights_dis = os.path.join(path2models, 'weights_dis.pt')\n",
        "\n",
        "torch.save(model_gen.state_dict(), path2weights_gen)\n",
        "torch.save(model_dis.state_dict(), path2weights_dis)"
      ],
      "execution_count": 18,
      "outputs": []
    },
    {
      "cell_type": "markdown",
      "metadata": {
        "id": "pW89zPb3A6_Q"
      },
      "source": [
        "# Generator이 생성한 가짜 이미지 확인"
      ]
    },
    {
      "cell_type": "code",
      "metadata": {
        "colab": {
          "base_uri": "https://localhost:8080/"
        },
        "id": "eIL_LtE5A872",
        "outputId": "73540ded-82ae-4094-ac58-2dddc5667eb2"
      },
      "source": [
        "# 가중치 불러오기\n",
        "weights = torch.load(path2weights_gen)\n",
        "model_gen.load_state_dict(weights)\n",
        "\n",
        "# evalutaion mode\n",
        "model_gen.eval()\n",
        "\n",
        "# fake image 생성\n",
        "with torch.no_grad():\n",
        "    fixed_noise = torch.randn(16, 100, device=device)\n",
        "    label = torch.randint(0,10,(16,), device=device)\n",
        "    img_fake = model_gen(fixed_noise, label).detach().cpu()\n",
        "print(img_fake.shape)"
      ],
      "execution_count": 19,
      "outputs": [
        {
          "output_type": "stream",
          "text": [
            "torch.Size([16, 1, 28, 28])\n"
          ],
          "name": "stdout"
        }
      ]
    },
    {
      "cell_type": "code",
      "metadata": {
        "colab": {
          "base_uri": "https://localhost:8080/",
          "height": 575
        },
        "id": "L9u9qICYBYPQ",
        "outputId": "5cf10baa-0303-45a4-dec9-da68922564a5"
      },
      "source": [
        "# 가짜 이미지 시각화\n",
        "plt.figure(figsize=(10,10))\n",
        "for ii in range(16):\n",
        "    plt.subplot(4,4,ii+1)\n",
        "    plt.imshow(to_pil_image(0.5*img_fake[ii]+0.5), cmap='gray')\n",
        "    plt.axis('off')"
      ],
      "execution_count": 23,
      "outputs": [
        {
          "output_type": "display_data",
          "data": {
            "image/png": "[encoded data removed]",
            "text/plain": [
              "<Figure size 720x720 with 16 Axes>"
            ]
          },
          "metadata": {
            "tags": [],
            "needs_background": "light"
          }
        }
      ]
    },
    {
      "cell_type": "code",
      "metadata": {
        "id": "raTuulxGDopn"
      },
      "source": [
        ""
      ],
      "execution_count": null,
      "outputs": []
    }
  ]
}